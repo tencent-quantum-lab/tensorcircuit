{
 "cells": [
  {
   "cell_type": "markdown",
   "source": [
    "# 第一章 线性代数 (Linear Algebra)"
   ],
   "metadata": {}
  },
  {
   "cell_type": "code",
   "execution_count": 18,
   "source": [
    "# 本章代码通过numpy展示，导入numpy库\n",
    "import numpy as np\n",
    "from scipy import linalg as la"
   ],
   "outputs": [],
   "metadata": {}
  },
  {
   "cell_type": "markdown",
   "source": [
    "## 1 向量\n",
    "### 1.1 向量 （vector）\n",
    "\n",
    "具有大小和方向的量，用 $\\vert v\\rangle$ 表示列向量，$\\langle v\\vert$ 表示行向量。"
   ],
   "metadata": {}
  },
  {
   "cell_type": "code",
   "execution_count": 59,
   "source": [
    "# 下面是一个二维向量的例子\n",
    "\n",
    "print(\"行向量:\")\n",
    "print(np.array([2, 3]))\n",
    "\n",
    "print()\n",
    "\n",
    "print(\"列向量:\")\n",
    "print(np.array([[2], [3]]))"
   ],
   "outputs": [
    {
     "output_type": "stream",
     "name": "stdout",
     "text": [
      "行向量:\n",
      "[2 3]\n",
      "\n",
      "列向量:\n",
      "[[2]\n",
      " [3]]\n"
     ]
    }
   ],
   "metadata": {}
  },
  {
   "cell_type": "markdown",
   "source": [
    "### 1.2 线性无关（linear independent）\n",
    "\n",
    "在线性代数里，一组向量中$A: a_1, a_2, ... a_n$，没有向量可以通过其他向量的线性组合而得到，我们称这一组向量为线性无关。\n",
    "\n",
    "公式上，如果只存在$k_1,k_2, \\cdots k_n$全为0的一组解满足\n",
    "\n",
    "$$\n",
    "k_1 a_1 + k_2 a_2 + \\cdots k_n a_n = 0\n",
    "$$\n",
    "\n",
    "则向量组$A$是线性无关。"
   ],
   "metadata": {}
  },
  {
   "cell_type": "code",
   "execution_count": 60,
   "source": [
    "A = (np.array([[1, 0, 0]]), np.array([[1, 1, 0]]), np.array([[1, 0, 1]]))\n",
    "\n",
    "# 或者一般我们写成矩阵的形式\n",
    "\n",
    "np.array([[1, 1, 0], [0, 1, 0], [0, 0, 1]])"
   ],
   "outputs": [
    {
     "output_type": "execute_result",
     "data": {
      "text/plain": [
       "array([[1, 1, 0],\n",
       "       [0, 1, 0],\n",
       "       [0, 0, 1]])"
      ]
     },
     "metadata": {},
     "execution_count": 60
    }
   ],
   "metadata": {}
  },
  {
   "cell_type": "markdown",
   "source": [
    "### 1.3 基 (Basis)\n",
    "\n",
    "在线性空间中，一组向量 $\\{ |v_0\\rangle, |v_1\\rangle, ...\\} \\in \\mathbb{C}^m$ 的所有线性组合（span）的集合叫 $\\mathbb{C}^m$的子空间(subspace).\n",
    "\n",
    "如果这一组向量是线性无关的，那么这组向量是所有线性组合所构成的子空间中的基。\n",
    "\n",
    "假设一组向量是基，那么基中的向量的个数 <= $m$，反之，向量个数大于所在空间维度则一定不是基。"
   ],
   "metadata": {}
  },
  {
   "cell_type": "markdown",
   "source": [
    "## 2. 矩阵 （matrix）\n",
    "\n",
    "数学上，一个$m \\times n$的矩阵是一个由$m$行$n$列元素排列成的矩阵阵列。矩阵可以将向量进行线性变换：\n",
    "$$\n",
    "|v\\rangle \\rightarrow | v^{\\prime} \\rangle = M |v\\rangle\n",
    "$$"
   ],
   "metadata": {}
  },
  {
   "cell_type": "code",
   "execution_count": 61,
   "source": [
    "M = np.array([[1, 2], [2, 1]])\n",
    "\n",
    "v = np.array([1, 2])\n",
    "\n",
    "np.matmul(M, v)"
   ],
   "outputs": [
    {
     "output_type": "execute_result",
     "data": {
      "text/plain": [
       "array([5, 4])"
      ]
     },
     "metadata": {},
     "execution_count": 61
    }
   ],
   "metadata": {}
  },
  {
   "cell_type": "markdown",
   "source": [
    "### 2.1 矩阵相乘\n",
    "\n",
    "若$A$为$m \\times n$的矩阵，$B$为$n \\times p$的矩阵，则他们的乘积$AB$（有时记作$A \\cdot B$）是一个$m \\times p$的矩阵，记作$C = A \\cdot B$，其中矩阵$C$中的第$i$行第$j$列元素可以表示为：\n",
    "   $$\n",
    "   C_{ij} = (AB)_{ij} = \n",
    "   a_{i1}b_{1j} + a_{i2}b_{2j} + \\cdots + a_{in}b_{nj} =\n",
    "   \\sum_{r=1}^na_{ir}b_{rj}\n",
    "   $$"
   ],
   "metadata": {}
  },
  {
   "cell_type": "code",
   "execution_count": 62,
   "source": [
    "A = np.array([[1, 2], [2, 1]])\n",
    "\n",
    "B = np.array([[0, 1], [1, 0]])\n",
    "\n",
    "np.matmul(A, B)"
   ],
   "outputs": [
    {
     "output_type": "execute_result",
     "data": {
      "text/plain": [
       "array([[2, 1],\n",
       "       [1, 2]])"
      ]
     },
     "metadata": {},
     "execution_count": 62
    }
   ],
   "metadata": {}
  },
  {
   "cell_type": "markdown",
   "source": [
    "### 2.2 内积（inner product）\n",
    "\n",
    "   內积可以看成是一种特殊的矩阵乘法。对于在希尔伯特空间中的两个向量$|a\\rangle$和$|b\\rangle$，$\\langle a | b \\rangle$表示它们的内积，$\\langle a|$定义为向量$|a\\rangle$的共轭转置（conjugate transpose），也可以记作$|a\\rangle^\\dagger$，有\n",
    "   \n",
    "$$\\langle a|b \\rangle = (a_1^*, a_2^*, \\cdots, a_n^*)\\left(\n",
    "   \t\\begin{array}{c}\n",
    "   \t\tb_1 \\\\\n",
    "   \t\tb_2 \\\\\n",
    "   \t\t\\vdots \\\\\n",
    "   \t\tb_n \\\\\n",
    "   \t\\end{array}\n",
    "   \\right) = a_1^*b_1 + a_2^*b_2 + \\cdots + a_n^*b_n$$\n",
    "\n",
    "​此处$*$表示共轭复数（对于实数$a$和$b$，$a+ib$的共轭复数是$a-ib$）。\n"
   ],
   "metadata": {}
  },
  {
   "cell_type": "code",
   "execution_count": 63,
   "source": [
    "base = np.arange(3)\n",
    "\n",
    "a = base - 1j * base\n",
    "b = base - 2j * base\n",
    "\n",
    "print(\"向量 a:\")\n",
    "print(a)\n",
    "print(\"向量 b:\")\n",
    "print(b)\n",
    "\n",
    "print(\"a的共轭转置:\")\n",
    "print(a.conj().T)\n",
    "np.inner(a.conj().T, b)"
   ],
   "outputs": [
    {
     "output_type": "stream",
     "name": "stdout",
     "text": [
      "向量 a:\n",
      "[0.+0.j 1.-1.j 2.-2.j]\n",
      "向量 b:\n",
      "[0.+0.j 1.-2.j 2.-4.j]\n",
      "a的共轭转置:\n",
      "[0.-0.j 1.+1.j 2.+2.j]\n"
     ]
    },
    {
     "output_type": "execute_result",
     "data": {
      "text/plain": [
       "(15-5j)"
      ]
     },
     "metadata": {},
     "execution_count": 63
    }
   ],
   "metadata": {}
  },
  {
   "cell_type": "markdown",
   "source": [
    "### 2.3 外积（outer product）\n",
    "\n",
    "   $| a \\rangle \\langle b |$表示希尔伯特空间中两个向量的外积，有\n",
    "   $$\n",
    "   |a \\rangle \\langle b| = \n",
    "   \\begin{pmatrix}\n",
    "   \ta_1 \\\\\n",
    "   \ta_2 \\\\\n",
    "   \t\\vdots \\\\\n",
    "   \ta_n \\\\\n",
    "   \\end{pmatrix}(b_1^*, b_2^*, \\cdots, b_n^*) = \n",
    "   \t\\begin{pmatrix}\n",
    "   \ta_1b_1^* & a_1b_2^* & \\cdots & a_1b_n^* \\\\\n",
    "   \ta_2b_1^* & a_2b_2^* & & \\vdots \\\\\n",
    "   \t\\vdots & & \\ddots & \\vdots \\\\\n",
    "   \ta_nb_1^* & \\cdots & \\cdots & a_nb_n^* \\\\\n",
    "   \\end{pmatrix}\n",
    "   $$"
   ],
   "metadata": {}
  },
  {
   "cell_type": "code",
   "execution_count": 64,
   "source": [
    "np.outer(a, b.conj().T)"
   ],
   "outputs": [
    {
     "output_type": "execute_result",
     "data": {
      "text/plain": [
       "array([[ 0.+0.j,  0.+0.j,  0.+0.j],\n",
       "       [ 0.-0.j,  3.+1.j,  6.+2.j],\n",
       "       [ 0.-0.j,  6.+2.j, 12.+4.j]])"
      ]
     },
     "metadata": {},
     "execution_count": 64
    }
   ],
   "metadata": {}
  },
  {
   "cell_type": "markdown",
   "source": [
    "### 2.4 张量积（tensor product）\n",
    "\n",
    "   $| a \\rangle \\otimes | b \\rangle$表示希尔伯特空间中两个向量的张量积，有\n",
    "   $$\n",
    "   |a \\rangle \\otimes |b \\rangle = \n",
    "   \\begin{pmatrix}\n",
    "   \ta_1 \\begin{pmatrix} b_1 \\\\ b_2 \\end{pmatrix} \\\\\n",
    "   \ta_2 \\begin{pmatrix} b_1 \\\\ b_2 \\end{pmatrix} \\\\\n",
    "   \\end{pmatrix} = \n",
    "   \\begin{pmatrix}\n",
    "   \ta_1b_1 \\\\\n",
    "   \ta_1b_2 \\\\\n",
    "   \ta_2b_1 \\\\\n",
    "   \ta_2b_2 \\\\\n",
    "   \\end{pmatrix}\n",
    "   $$"
   ],
   "metadata": {}
  },
  {
   "cell_type": "code",
   "execution_count": 65,
   "source": [
    "np.kron(a, b)"
   ],
   "outputs": [
    {
     "output_type": "execute_result",
     "data": {
      "text/plain": [
       "array([ 0. +0.j,  0. +0.j,  0. +0.j,  0. +0.j, -1. -3.j, -2. -6.j,\n",
       "        0. +0.j, -2. -6.j, -4.-12.j])"
      ]
     },
     "metadata": {},
     "execution_count": 65
    }
   ],
   "metadata": {}
  },
  {
   "cell_type": "markdown",
   "source": [
    "   矩阵$A$和$B$的张量积，有\n",
    "   $$\n",
    "   A \\otimes B = \n",
    "   \\begin{pmatrix}\n",
    "   \ta_{11}B & \\cdots & a_{1n}B \\\\\n",
    "   \t\\vdots & \\ddots & \\vdots \\\\\n",
    "   \ta_{m1}B & \\cdots & a_{mn}B \\\\\n",
    "   \\end{pmatrix}\n",
    "   $$\n",
    "   "
   ],
   "metadata": {}
  },
  {
   "cell_type": "code",
   "execution_count": 66,
   "source": [
    "np.kron(np.eye(2), np.ones((2, 2)))"
   ],
   "outputs": [
    {
     "output_type": "execute_result",
     "data": {
      "text/plain": [
       "array([[1., 1., 0., 0.],\n",
       "       [1., 1., 0., 0.],\n",
       "       [0., 0., 1., 1.],\n",
       "       [0., 0., 1., 1.]])"
      ]
     },
     "metadata": {},
     "execution_count": 66
    }
   ],
   "metadata": {}
  },
  {
   "cell_type": "markdown",
   "source": [
    "### 2.5 正交完备集\n",
    "\n",
    "1. 集合只含有单位向量（向量长度为1）\n",
    "2. 两两向量之间的内积都为0\n",
    "\n",
    "以下就是一组正交完备集。"
   ],
   "metadata": {}
  },
  {
   "cell_type": "code",
   "execution_count": 67,
   "source": [
    "v = np.array([[1, 0, 0], [0, 1, 0], [0, 0, 1]])\n",
    "v"
   ],
   "outputs": [
    {
     "output_type": "execute_result",
     "data": {
      "text/plain": [
       "array([[1, 0, 0],\n",
       "       [0, 1, 0],\n",
       "       [0, 0, 1]])"
      ]
     },
     "metadata": {},
     "execution_count": 67
    }
   ],
   "metadata": {}
  },
  {
   "cell_type": "code",
   "execution_count": 68,
   "source": [
    "print(np.dot(v[0], v[1]))\n",
    "print(np.dot(v[1], v[2]))\n",
    "print(np.dot(v[0], v[2]))\n",
    "\n",
    "print(np.linalg.norm(v[0]))\n",
    "print(np.linalg.norm(v[1]))\n",
    "print(np.linalg.norm(v[2]))"
   ],
   "outputs": [
    {
     "output_type": "stream",
     "name": "stdout",
     "text": [
      "0\n",
      "0\n",
      "0\n",
      "1.0\n",
      "1.0\n",
      "1.0\n"
     ]
    }
   ],
   "metadata": {}
  },
  {
   "cell_type": "markdown",
   "source": [
    "## 3. 特殊矩阵\n",
    "\n",
    "### 3.1 可逆矩阵\n",
    "\n",
    "给定一个$n$阶方阵$A$，若存在一$n$阶方阵$B$，使得$AB = BA = I_n$，其中$I_n$为$n$阶单位矩阵，则称$A$是可逆的，且$B$是$A$的逆矩阵，记作$A^{-1}$。"
   ],
   "metadata": {}
  },
  {
   "cell_type": "code",
   "execution_count": 3,
   "source": [
    "A = np.array(np.arange(4).reshape((2, 2)))\n",
    "B = np.linalg.inv(A)\n",
    "\n",
    "print(A)\n",
    "print(B)\n",
    "print(A @ B)"
   ],
   "outputs": [
    {
     "output_type": "stream",
     "name": "stdout",
     "text": [
      "[[0 1]\n",
      " [2 3]]\n",
      "[[-1.5  0.5]\n",
      " [ 1.   0. ]]\n",
      "[[1. 0.]\n",
      " [0. 1.]]\n"
     ]
    }
   ],
   "metadata": {}
  },
  {
   "cell_type": "markdown",
   "source": [
    "### 3.2 转置（transpose）\n",
    "\n",
    "矩阵$A$的转置是另一个矩阵$A^T$，由下列等价动作建立：\n",
    "\n",
    "- 把$A$的横行写为$A^T$的纵列\n",
    "- 把$A$的纵列写为$A^T$的横行\n",
    "\n",
    "形式上说，$m \\times n$矩阵的转置是$n \\times m$的矩阵。"
   ],
   "metadata": {}
  },
  {
   "cell_type": "code",
   "execution_count": 70,
   "source": [
    "print(A)\n",
    "print(A.T)"
   ],
   "outputs": [
    {
     "output_type": "stream",
     "name": "stdout",
     "text": [
      "[[0 1]\n",
      " [2 3]]\n",
      "[[0 2]\n",
      " [1 3]]\n"
     ]
    }
   ],
   "metadata": {}
  },
  {
   "cell_type": "markdown",
   "source": [
    "### 3.3 共轭转置（conjugate transpose）\n",
    "\n",
    "矩阵$A$的共轭转置$A^\\dagger$是通过对矩阵A转置后再将所有元素替换为各自的共轭复数得到的。"
   ],
   "metadata": {}
  },
  {
   "cell_type": "code",
   "execution_count": 71,
   "source": [
    "C = A + 1j * A\n",
    "print(C)\n",
    "print(C.conj().T)"
   ],
   "outputs": [
    {
     "output_type": "stream",
     "name": "stdout",
     "text": [
      "[[0.+0.j 1.+1.j]\n",
      " [2.+2.j 3.+3.j]]\n",
      "[[0.-0.j 2.-2.j]\n",
      " [1.-1.j 3.-3.j]]\n"
     ]
    }
   ],
   "metadata": {}
  },
  {
   "cell_type": "markdown",
   "source": [
    "### 3.4 厄米矩阵（Hermitian matrix)\n",
    "\n",
    "$H$是一个厄米矩阵，满足\n",
    "\n",
    "$$H = H^\\dagger，$$\n",
    "\n",
    "也就是 $H_{ij} = H_{ji}^*$。"
   ],
   "metadata": {}
  },
  {
   "cell_type": "code",
   "execution_count": 72,
   "source": [
    "H = np.array([[3, 3 - 2j], [3 + 2j, 2]])\n",
    "\n",
    "H.conj().T"
   ],
   "outputs": [
    {
     "output_type": "execute_result",
     "data": {
      "text/plain": [
       "array([[3.-0.j, 3.-2.j],\n",
       "       [3.+2.j, 2.-0.j]])"
      ]
     },
     "metadata": {},
     "execution_count": 72
    }
   ],
   "metadata": {}
  },
  {
   "cell_type": "markdown",
   "source": [
    "### 3.5 幺正矩阵（unitary matrix）\n",
    "\n",
    "$U$ 是一个幺正矩阵，满足\n",
    "\n",
    "$$UU^\\dagger = I,$$\n",
    "\n",
    "也就是\n",
    "\n",
    "$$\\sum_j U_{ij}U^*_{jk} = \\delta_{ik}.$$\n",
    "\n",
    "幺正矩阵的各行和各列可以看做正交完备向量组。\n",
    "幺正矩阵作用在向量上，向量的长度不变。"
   ],
   "metadata": {}
  },
  {
   "cell_type": "code",
   "execution_count": 73,
   "source": [
    "# 幺正矩阵例子\n",
    "U = np.array([[1 + 1j, 1 - 1j], [1 - 1j, 1 + 1j]]) / 2\n",
    "\n",
    "np.matmul(U, U.conj().T)"
   ],
   "outputs": [
    {
     "output_type": "execute_result",
     "data": {
      "text/plain": [
       "array([[1.+0.j, 0.+0.j],\n",
       "       [0.+0.j, 1.+0.j]])"
      ]
     },
     "metadata": {},
     "execution_count": 73
    }
   ],
   "metadata": {}
  },
  {
   "cell_type": "markdown",
   "source": [
    "## 4. 矩阵本征分解\n",
    "\n",
    "$$A|v \\rangle = \\lambda|v \\rangle $$\n",
    "\n",
    "符合上式的向量$|v \\rangle$是矩阵A的特征向量（eigenvector），$\\lambda$是与特征向量对应的特征值（eigenvalue）。值得注意的是，任意满足$AA^\\dagger = A^\\dagger A$的矩阵可以进行以下分解：\n",
    "\n",
    "$$A = \\sum_j \\lambda_j|v_j\\rangle\\langle v_j|$$\n",
    "\n",
    "其中，$\\lambda_j$ 是$A$的第$j$个本征值，$|v_j\\rangle$ 是是其对应的本征向量，且$\\{|v_j\\rangle\\}$构成正交归一的基。"
   ],
   "metadata": {}
  },
  {
   "cell_type": "code",
   "execution_count": 74,
   "source": [
    "A = np.array([[0, -1j], [1j, 0]])\n",
    "\n",
    "print(np.matmul(A, A.conj().T))\n",
    "print(np.matmul(A.conj().T, A))\n",
    "\n",
    "w, v = np.linalg.eigh(A)\n",
    "# 验证第一对特征值和特征向量，第四部分会进行讲解\n",
    "print(np.dot(A, v[:, 0]) - w[0] * v[:, 0])\n",
    "# 验证第二对特征值和特征向量\n",
    "print(np.dot(A, v[:, 1]) - w[1] * v[:, 1])"
   ],
   "outputs": [
    {
     "output_type": "stream",
     "name": "stdout",
     "text": [
      "[[1.+0.j 0.+0.j]\n",
      " [0.+0.j 1.+0.j]]\n",
      "[[1.+0.j 0.+0.j]\n",
      " [0.+0.j 1.+0.j]]\n",
      "[0.+0.j 0.+0.j]\n",
      "[0.+0.j 0.+0.j]\n"
     ]
    }
   ],
   "metadata": {}
  },
  {
   "cell_type": "markdown",
   "source": [
    "## "
   ],
   "metadata": {}
  },
  {
   "cell_type": "markdown",
   "source": [
    "## 5. 矩阵函数\n",
    "\n",
    "矩阵函数根据泰勒展开定义（对于矩阵，乘法和加法有定义，而泰勒展开中只有这两种计算）\n",
    "特殊的对于 Hermitian 矩阵 A，我们有对角化 $A = U^\\dagger \\Lambda U$ ，其中 $\\Lambda_{ij} = (\\lambda_i)\\delta_{ij}$ 是对角矩阵。那么我们有 $f(A) = U^\\dagger f(\\Lambda) U$, 其中 $f(\\Lambda)_{ij} = f(\\lambda_i)\\delta_{ij}$ .\n",
    "\n",
    "例子：根据以上矩阵函数定义，分析对于矩阵欧拉公式是否成立 何时成立 $e^{ix} = \\cos(x)+i\\sin(x)$\n"
   ],
   "metadata": {}
  },
  {
   "cell_type": "code",
   "execution_count": 4,
   "source": [
    "X = np.array([[0, 1.0], [1.0, 0]])\n",
    "Z = np.array([[1.0, 0], [0, -1.0]])"
   ],
   "outputs": [],
   "metadata": {}
  },
  {
   "cell_type": "code",
   "execution_count": 21,
   "source": [
    "e, U = np.linalg.eigh(X)\n",
    "print(U)"
   ],
   "outputs": [
    {
     "output_type": "stream",
     "name": "stdout",
     "text": [
      "[[-0.70710678  0.70710678]\n",
      " [ 0.70710678  0.70710678]]\n"
     ]
    }
   ],
   "metadata": {}
  },
  {
   "cell_type": "code",
   "execution_count": 27,
   "source": [
    "lbd = U.conj().T @ X @ U\n",
    "np.testing.assert_allclose(np.diag(e), lbd, atol=1e-8)\n",
    "print(lbd)\n",
    "cos1 = la.cosm(X)\n",
    "print(cos1)\n",
    "cos2 = U @ np.diag(np.cos(e)) @ U.conj().T\n",
    "print(cos2)\n",
    "np.testing.assert_allclose(cos1, cos2, atol=1e-8)"
   ],
   "outputs": [
    {
     "output_type": "stream",
     "name": "stdout",
     "text": [
      "[[-1.00000000e+00 -2.23711432e-17]\n",
      " [ 2.23711432e-17  1.00000000e+00]]\n",
      "[[0.54030231 0.        ]\n",
      " [0.         0.54030231]]\n",
      "[[5.40302306e-01 2.28559205e-17]\n",
      " [2.28559205e-17 5.40302306e-01]]\n"
     ]
    }
   ],
   "metadata": {}
  },
  {
   "cell_type": "code",
   "execution_count": 23,
   "source": [
    "np.sin(Z), la.sinm(Z)"
   ],
   "outputs": [
    {
     "output_type": "execute_result",
     "data": {
      "text/plain": [
       "(array([[ 0.84147098,  0.        ],\n",
       "        [ 0.        , -0.84147098]]),\n",
       " array([[ 0.84147098,  0.        ],\n",
       "        [ 0.        , -0.84147098]]))"
      ]
     },
     "metadata": {},
     "execution_count": 23
    }
   ],
   "metadata": {}
  }
 ],
 "metadata": {
  "interpreter": {
   "hash": "b9c791f3c91dc075684301e453090e0f95196003e24e6862ac64c4d890189a6a"
  },
  "kernelspec": {
   "display_name": "Python 3 (ipykernel)",
   "language": "python",
   "name": "python3"
  },
  "language_info": {
   "codemirror_mode": {
    "name": "ipython",
    "version": 3
   },
   "file_extension": ".py",
   "mimetype": "text/x-python",
   "name": "python",
   "nbconvert_exporter": "python",
   "pygments_lexer": "ipython3",
   "version": "3.8.0"
  }
 },
 "nbformat": 4,
 "nbformat_minor": 2
}