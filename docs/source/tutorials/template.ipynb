{
 "cells": [
  {
   "cell_type": "markdown",
   "id": "fe5175ef",
   "metadata": {},
   "source": [
    "# Title"
   ]
  },
  {
   "cell_type": "markdown",
   "id": "81072bdc",
   "metadata": {},
   "source": [
    "## Overview\n",
    "\n",
    "[Include a paragraph or two explaining what this example demonstrates, who should be interested in it, and what you need to know before you get started.]"
   ]
  },
  {
   "cell_type": "markdown",
   "id": "d218bd07",
   "metadata": {},
   "source": [
    "## Background\n",
    " \n",
    "[If the topic in this tutorial is involved, a background section may be required, possibly with heavy math:]\n",
    "\n",
    "$$ \\frac{\\pi^2}{6} = \\sum_{i=1}^\\infty \\frac{1}{i^2}$$"
   ]
  },
  {
   "cell_type": "markdown",
   "id": "f73b6f62",
   "metadata": {},
   "source": [
    "## Setup\n",
    "\n",
    "[Basic setups, such as package imports and configs on imports, better include all setup codes in one block]"
   ]
  },
  {
   "cell_type": "code",
   "execution_count": 1,
   "id": "86d23b2d",
   "metadata": {},
   "outputs": [
    {
     "name": "stdout",
     "output_type": "stream",
     "text": [
      "0.0.1\n"
     ]
    }
   ],
   "source": [
    "import numpy as np\n",
    "import tensorcircuit as tc\n",
    "\n",
    "tc.set_backend(\"tensorflow\")\n",
    "print(tc.__version__)"
   ]
  },
  {
   "cell_type": "markdown",
   "id": "fe18bc6b",
   "metadata": {},
   "source": [
    "## Problem related sections\n",
    "\n",
    "[Sections with explanation and code, such as Methods, Results, Comparisons, Discussions, Implementations, etc.]"
   ]
  },
  {
   "cell_type": "code",
   "execution_count": 2,
   "id": "dce680c5",
   "metadata": {},
   "outputs": [],
   "source": [
    "# Build the quantum function\n",
    "\n",
    "\n",
    "def f(weights, n, nlayers):\n",
    "    c = tc.Circuit(n)\n",
    "    for i in range(n):\n",
    "        c.H(i)\n",
    "    for j in range(nlayers):\n",
    "        for i in range(n):\n",
    "            c.rx(i, theta=weights[j, i])\n",
    "    return c.wavefunction()[0]"
   ]
  },
  {
   "cell_type": "markdown",
   "id": "b21e8c9d",
   "metadata": {},
   "source": [
    "## Guidelines and styles\n",
    "\n",
    "* Include copyright line at the top.\n",
    "* Use one `H1` header for the title.\n",
    "* Avoid using `H1` headers for section titles. Use `H2` and `H3` instead.\n",
    "* Include an overview section in plain text before any code.\n",
    "* Put all your installs and imports in the setup section.\n",
    "* Keep code and text cells as brief as possible, remove all unused code in the tutorial.\n",
    "* Avoid leaving an empty cell at the end of the notebook.\n",
    "* Use `black` to format the jupyter notebooks.\n",
    "* Keep examples quick. It should at most take several minutes to run all commands from one tutorial.\n",
    "* Restart kernel and run all command from the beginning before committing."
   ]
  },
  {
   "cell_type": "markdown",
   "id": "8cdd0e08",
   "metadata": {},
   "source": [
    "## References\n",
    "\n",
    "1. citation format in APS form\n",
    "\n",
    "2. research paper references should be included if applicable\n",
    "\n",
    "3. [link](http://fake.urls) for the references should also be included if applicable"
   ]
  }
 ],
 "metadata": {
  "kernelspec": {
   "display_name": "Python 3 (ipykernel)",
   "language": "python",
   "name": "python3"
  },
  "language_info": {
   "codemirror_mode": {
    "name": "ipython",
    "version": 3
   },
   "file_extension": ".py",
   "mimetype": "text/x-python",
   "name": "python",
   "nbconvert_exporter": "python",
   "pygments_lexer": "ipython3",
   "version": "3.8.0"
  }
 },
 "nbformat": 4,
 "nbformat_minor": 5
}
