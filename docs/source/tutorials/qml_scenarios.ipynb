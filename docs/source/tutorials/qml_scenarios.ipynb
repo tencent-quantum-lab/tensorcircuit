{
 "cells": [
  {
   "cell_type": "markdown",
   "id": "88fcd9ea",
   "metadata": {},
   "source": [
    "# Quantum Machine Learning for Classification Task\n",
    "\n",
    "**Demonstrations on some common setups and techniques**"
   ]
  },
  {
   "cell_type": "markdown",
   "id": "abcb3f1b",
   "metadata": {},
   "source": [
    "## Overview\n",
    "\n",
    "We use the fashion-MNIST dataset to set up a binary classification task, we will try different encoding schemes for the inputs and apply possible classical post-processing on the quantum outputs to enhance the classification accuracy. In this tutorial, we stick to the TensorFlow backend and try to consistently use the **Keras interface** provided by tensorcircuit for quantum functions, where we can magically turn a quantum function into a Keras layer."
   ]
  },
  {
   "cell_type": "code",
   "execution_count": 1,
   "id": "86881b8a",
   "metadata": {},
   "outputs": [],
   "source": [
    "from matplotlib import pyplot as plt\n",
    "from sklearn.decomposition import PCA\n",
    "import tensorflow as tf\n",
    "import tensorcircuit as tc\n",
    "\n",
    "K = tc.set_backend(\"tensorflow\")"
   ]
  },
  {
   "cell_type": "markdown",
   "id": "9f92bc6f",
   "metadata": {},
   "source": [
    "## Dataset and Pre-processing\n",
    "\n",
    "We first load the fashion-mnist dataset and differentiation between T-shirt (0) and Trouser (1)."
   ]
  },
  {
   "cell_type": "code",
   "execution_count": 2,
   "id": "81dcbf19",
   "metadata": {},
   "outputs": [],
   "source": [
    "(x_train, y_train), (x_test, y_test) = tc.templates.dataset.mnist_pair_data(\n",
    "    0, 1, loader=tf.keras.datasets.fashion_mnist\n",
    ")"
   ]
  },
  {
   "cell_type": "code",
   "execution_count": 3,
   "id": "e4302f71",
   "metadata": {},
   "outputs": [
    {
     "data": {
      "text/plain": [
       "((12000, 28, 28, 1), (12000,), (2000, 28, 28, 1), (2000,))"
      ]
     },
     "execution_count": 3,
     "metadata": {},
     "output_type": "execute_result"
    }
   ],
   "source": [
    "x_train.shape, y_train.shape, x_test.shape, y_test.shape"
   ]
  },
  {
   "cell_type": "code",
   "execution_count": 4,
   "id": "8a862a00",
   "metadata": {},
   "outputs": [
    {
     "data": {
      "text/plain": [
       "<matplotlib.image.AxesImage at 0x7f9147029610>"
      ]
     },
     "execution_count": 4,
     "metadata": {},
     "output_type": "execute_result"
    },
    {
     "data": {
      "image/png": "[encoded data removed]",
      "text/plain": [
       "<Figure size 432x288 with 1 Axes>"
      ]
     },
     "metadata": {
      "needs_background": "light"
     },
     "output_type": "display_data"
    }
   ],
   "source": [
    "plt.imshow(x_train[0])"
   ]
  },
  {
   "cell_type": "code",
   "execution_count": 5,
   "id": "3b6115b5",
   "metadata": {},
   "outputs": [
    {
     "data": {
      "text/plain": [
       "<matplotlib.image.AxesImage at 0x7f91473b6c10>"
      ]
     },
     "execution_count": 5,
     "metadata": {},
     "output_type": "execute_result"
    },
    {
     "data": {
      "image/png": "[encoded data removed]",
      "text/plain": [
       "<Figure size 432x288 with 1 Axes>"
      ]
     },
     "metadata": {
      "needs_background": "light"
     },
     "output_type": "display_data"
    }
   ],
   "source": [
    "plt.imshow(x_train[1])"
   ]
  },
  {
   "cell_type": "markdown",
   "id": "2142169a",
   "metadata": {},
   "source": [
    "## Amplitude Encoding"
   ]
  },
  {
   "cell_type": "code",
   "execution_count": 6,
   "id": "1cfd2225",
   "metadata": {},
   "outputs": [],
   "source": [
    "x_train = tf.image.pad_to_bounding_box(x_train, 2, 2, 32, 32)\n",
    "x_test = tf.image.pad_to_bounding_box(x_test, 2, 2, 32, 32)"
   ]
  },
  {
   "cell_type": "code",
   "execution_count": 7,
   "id": "09967af1",
   "metadata": {},
   "outputs": [],
   "source": [
    "batched_ae = K.vmap(tc.templates.dataset.amplitude_encoding, vectorized_argnums=0)"
   ]
  },
  {
   "cell_type": "code",
   "execution_count": 8,
   "id": "92c8deec",
   "metadata": {},
   "outputs": [],
   "source": [
    "x_train_q = batched_ae(x_train, 10)\n",
    "x_test_q = batched_ae(x_test, 10)"
   ]
  },
  {
   "cell_type": "code",
   "execution_count": 9,
   "id": "dbadd88f",
   "metadata": {},
   "outputs": [],
   "source": [
    "n = 10\n",
    "blocks = 3\n",
    "\n",
    "\n",
    "def qml(x, weights):\n",
    "    c = tc.Circuit(n, inputs=x)\n",
    "    for j in range(blocks):\n",
    "        for i in range(n):\n",
    "            c.rx(i, theta=weights[j, i, 0])\n",
    "            c.rz(i, theta=weights[j, i, 1])\n",
    "        for i in range(n - 1):\n",
    "            c.exp1(i, i + 1, theta=weights[j, i, 2], unitary=tc.gates._zz_matrix)\n",
    "    outputs = K.stack(\n",
    "        [K.real(c.expectation([tc.gates.z(), [i]])) for i in range(n)]\n",
    "        + [K.real(c.expectation([tc.gates.x(), [i]])) for i in range(n)]\n",
    "    )\n",
    "    outputs = K.reshape(outputs, [-1])\n",
    "    return K.sigmoid(K.sum(outputs))\n",
    "\n",
    "\n",
    "qml_layer = tc.keras.QuantumLayer(qml, weights_shape=[blocks, n, 3])"
   ]
  },
  {
   "cell_type": "code",
   "execution_count": 10,
   "id": "7502bc53",
   "metadata": {},
   "outputs": [
    {
     "name": "stdout",
     "output_type": "stream",
     "text": [
      "Epoch 1/3\n",
      "75/75 [==============================] - 85s 559ms/step - loss: 0.6217 - binary_accuracy: 0.7667 - val_loss: 0.3990 - val_binary_accuracy: 0.9620\n",
      "Epoch 2/3\n",
      "75/75 [==============================] - 14s 185ms/step - loss: 0.3701 - binary_accuracy: 0.9571 - val_loss: 0.3421 - val_binary_accuracy: 0.9507\n",
      "Epoch 3/3\n",
      "75/75 [==============================] - 14s 185ms/step - loss: 0.3252 - binary_accuracy: 0.9542 - val_loss: 0.3030 - val_binary_accuracy: 0.9540\n"
     ]
    },
    {
     "data": {
      "text/plain": [
       "<keras.callbacks.History at 0x7f9147416e50>"
      ]
     },
     "execution_count": 10,
     "metadata": {},
     "output_type": "execute_result"
    }
   ],
   "source": [
    "model = tf.keras.Sequential([qml_layer])\n",
    "model.compile(\n",
    "    loss=tf.keras.losses.BinaryCrossentropy(),\n",
    "    optimizer=tf.keras.optimizers.Adam(0.01),\n",
    "    metrics=[tf.keras.metrics.BinaryAccuracy()],\n",
    ")\n",
    "\n",
    "model.fit(x_train_q, y_train, batch_size=32, epochs=3, validation_split=0.8)"
   ]
  },
  {
   "cell_type": "markdown",
   "id": "dbb1becb",
   "metadata": {},
   "source": [
    "## Classical Post-processing\n",
    "\n",
    "We attached one Linear layer after the quantum outputs to enhance the capacity of the machine learning model as a quantum-neural hybrid machine learning approach."
   ]
  },
  {
   "cell_type": "code",
   "execution_count": 11,
   "id": "5fa7ea38",
   "metadata": {},
   "outputs": [],
   "source": [
    "def qml(x, weights):\n",
    "    c = tc.Circuit(n, inputs=x)\n",
    "    for j in range(blocks):\n",
    "        for i in range(n):\n",
    "            c.rx(i, theta=weights[j, i, 0])\n",
    "            c.rz(i, theta=weights[j, i, 1])\n",
    "        for i in range(n - 1):\n",
    "            c.exp1(i, i + 1, theta=weights[j, i, 2], unitary=tc.gates._zz_matrix)\n",
    "    outputs = K.stack(\n",
    "        [K.real(c.expectation([tc.gates.z(), [i]])) for i in range(n)]\n",
    "        + [K.real(c.expectation([tc.gates.x(), [i]])) for i in range(n)]\n",
    "    )\n",
    "    outputs = K.reshape(outputs, [-1])\n",
    "    return outputs\n",
    "\n",
    "\n",
    "qml_layer = tc.keras.QuantumLayer(qml, weights_shape=[blocks, n, 3])\n",
    "\n",
    "inputs = tf.keras.Input(shape=(2**n), dtype=tf.complex64)\n",
    "measurements = qml_layer(inputs)\n",
    "output = tf.keras.layers.Dense(1, activation=\"sigmoid\")(measurements)\n",
    "model = tf.keras.Model(inputs=inputs, outputs=output)"
   ]
  },
  {
   "cell_type": "code",
   "execution_count": 12,
   "id": "2b2133a7",
   "metadata": {},
   "outputs": [
    {
     "name": "stdout",
     "output_type": "stream",
     "text": [
      "Epoch 1/3\n",
      "75/75 [==============================] - 71s 508ms/step - loss: 0.5140 - binary_accuracy: 0.8841 - val_loss: 0.3617 - val_binary_accuracy: 0.9521\n",
      "Epoch 2/3\n",
      "75/75 [==============================] - 14s 182ms/step - loss: 0.2803 - binary_accuracy: 0.9421 - val_loss: 0.2093 - val_binary_accuracy: 0.9506\n",
      "Epoch 3/3\n",
      "75/75 [==============================] - 15s 200ms/step - loss: 0.2057 - binary_accuracy: 0.9437 - val_loss: 0.1795 - val_binary_accuracy: 0.9483\n"
     ]
    },
    {
     "data": {
      "text/plain": [
       "<keras.callbacks.History at 0x7f913d4ee520>"
      ]
     },
     "execution_count": 12,
     "metadata": {},
     "output_type": "execute_result"
    }
   ],
   "source": [
    "model.compile(\n",
    "    loss=tf.keras.losses.BinaryCrossentropy(),\n",
    "    optimizer=tf.keras.optimizers.Adam(0.01),\n",
    "    metrics=[tf.keras.metrics.BinaryAccuracy()],\n",
    ")\n",
    "\n",
    "model.fit(x_train_q, y_train, batch_size=32, epochs=3, validation_split=0.8)"
   ]
  },
  {
   "cell_type": "markdown",
   "id": "bb594290",
   "metadata": {},
   "source": [
    "## PCA Embedding\n",
    "\n",
    "Amplitude encoding is difficult to implement on real quantum hardware, we here instead consider another way for data input, where only a single qubit rotation is involved. To compress the input data such that it can fit into a small circuit, PCA dimension reduction is required."
   ]
  },
  {
   "cell_type": "code",
   "execution_count": 13,
   "id": "6165ded0",
   "metadata": {},
   "outputs": [],
   "source": [
    "x_train_r = PCA(10).fit_transform(x_train.numpy().reshape([-1, 32 * 32]))"
   ]
  },
  {
   "cell_type": "code",
   "execution_count": 14,
   "id": "db7352e2",
   "metadata": {},
   "outputs": [
    {
     "data": {
      "text/plain": [
       "(12000, 10)"
      ]
     },
     "execution_count": 14,
     "metadata": {},
     "output_type": "execute_result"
    }
   ],
   "source": [
    "x_train_r.shape  # we now has 10-d vector compression for each figure"
   ]
  },
  {
   "cell_type": "code",
   "execution_count": 15,
   "id": "c47a8b04",
   "metadata": {},
   "outputs": [],
   "source": [
    "def qml(x, weights):\n",
    "    c = tc.Circuit(n)\n",
    "    for i in range(10):\n",
    "        c.rx(i, theta=x[i])  # loading the data\n",
    "    for j in range(blocks):\n",
    "        for i in range(n):\n",
    "            c.rx(i, theta=weights[j, i, 0])\n",
    "            c.rz(i, theta=weights[j, i, 1])\n",
    "        for i in range(n - 1):\n",
    "            c.exp1(i, i + 1, theta=weights[j, i, 2], unitary=tc.gates._zz_matrix)\n",
    "    outputs = K.stack(\n",
    "        [K.real(c.expectation([tc.gates.z(), [i]])) for i in range(n)]\n",
    "        + [K.real(c.expectation([tc.gates.x(), [i]])) for i in range(n)]\n",
    "    )\n",
    "    outputs = K.reshape(outputs, [-1])\n",
    "    return K.sigmoid(K.sum(outputs))\n",
    "\n",
    "\n",
    "qml_layer = tc.keras.QuantumLayer(qml, weights_shape=[blocks, n, 3])"
   ]
  },
  {
   "cell_type": "code",
   "execution_count": 16,
   "id": "ea292acf",
   "metadata": {},
   "outputs": [
    {
     "name": "stdout",
     "output_type": "stream",
     "text": [
      "Epoch 1/3\n",
      "75/75 [==============================] - 71s 447ms/step - loss: 0.7993 - binary_accuracy: 0.6996 - val_loss: 0.3026 - val_binary_accuracy: 0.8829\n",
      "Epoch 2/3\n",
      "75/75 [==============================] - 6s 80ms/step - loss: 0.2745 - binary_accuracy: 0.8983 - val_loss: 0.2559 - val_binary_accuracy: 0.9087\n",
      "Epoch 3/3\n",
      "75/75 [==============================] - 6s 83ms/step - loss: 0.2513 - binary_accuracy: 0.9167 - val_loss: 0.2385 - val_binary_accuracy: 0.9187\n"
     ]
    },
    {
     "data": {
      "text/plain": [
       "<keras.callbacks.History at 0x7f91204f1430>"
      ]
     },
     "execution_count": 16,
     "metadata": {},
     "output_type": "execute_result"
    }
   ],
   "source": [
    "model = tf.keras.Sequential([qml_layer])\n",
    "model.compile(\n",
    "    loss=tf.keras.losses.BinaryCrossentropy(),\n",
    "    optimizer=tf.keras.optimizers.Adam(0.01),\n",
    "    metrics=[tf.keras.metrics.BinaryAccuracy()],\n",
    ")\n",
    "\n",
    "model.fit(x_train_r, y_train, batch_size=32, epochs=3, validation_split=0.8)"
   ]
  },
  {
   "cell_type": "markdown",
   "id": "5c07a572",
   "metadata": {},
   "source": [
    "## Data Re-uploading\n",
    "\n",
    "By loading the PCA embedding data multiple times in the VQA, we may further increase the accuracy of the model."
   ]
  },
  {
   "cell_type": "code",
   "execution_count": 17,
   "id": "7cf9971b",
   "metadata": {},
   "outputs": [],
   "source": [
    "def qml(x, weights):\n",
    "    c = tc.Circuit(n)\n",
    "    for j in range(blocks):\n",
    "        for i in range(10):\n",
    "            c.ry(i, theta=x[i])  # loading the data repetitively\n",
    "        for i in range(n):\n",
    "            c.rx(i, theta=weights[j, i, 0])\n",
    "            c.rz(i, theta=weights[j, i, 1])\n",
    "        for i in range(n - 1):\n",
    "            c.exp1(i, i + 1, theta=weights[j, i, 2], unitary=tc.gates._zz_matrix)\n",
    "    outputs = K.stack(\n",
    "        [K.real(c.expectation([tc.gates.z(), [i]])) for i in range(n)]\n",
    "        + [K.real(c.expectation([tc.gates.x(), [i]])) for i in range(n)]\n",
    "    )\n",
    "    outputs = K.reshape(outputs, [-1])\n",
    "    return K.sigmoid(K.sum(outputs))\n",
    "\n",
    "\n",
    "qml_layer = tc.keras.QuantumLayer(qml, weights_shape=[blocks, n, 3])"
   ]
  },
  {
   "cell_type": "code",
   "execution_count": 19,
   "id": "9c974f4d",
   "metadata": {},
   "outputs": [
    {
     "name": "stdout",
     "output_type": "stream",
     "text": [
      "Epoch 1/3\n",
      "75/75 [==============================] - 20s 146ms/step - loss: 0.2506 - binary_accuracy: 0.9070 - val_loss: 0.2271 - val_binary_accuracy: 0.9177\n",
      "Epoch 2/3\n",
      "75/75 [==============================] - 7s 95ms/step - loss: 0.2191 - binary_accuracy: 0.9246 - val_loss: 0.2071 - val_binary_accuracy: 0.9287\n",
      "Epoch 3/3\n",
      "75/75 [==============================] - 7s 95ms/step - loss: 0.2049 - binary_accuracy: 0.9287 - val_loss: 0.2016 - val_binary_accuracy: 0.9305\n"
     ]
    },
    {
     "data": {
      "text/plain": [
       "<keras.callbacks.History at 0x7f90a813b460>"
      ]
     },
     "execution_count": 19,
     "metadata": {},
     "output_type": "execute_result"
    }
   ],
   "source": [
    "model = tf.keras.Sequential([qml_layer])\n",
    "model.compile(\n",
    "    loss=tf.keras.losses.BinaryCrossentropy(),\n",
    "    optimizer=tf.keras.optimizers.Adam(0.01),\n",
    "    metrics=[tf.keras.metrics.BinaryAccuracy()],\n",
    ")\n",
    "\n",
    "model.fit(x_train_r, y_train, batch_size=32, epochs=3, validation_split=0.8)"
   ]
  }
 ],
 "metadata": {
  "kernelspec": {
   "display_name": "Python 3 (ipykernel)",
   "language": "python",
   "name": "python3"
  },
  "language_info": {
   "codemirror_mode": {
    "name": "ipython",
    "version": 3
   },
   "file_extension": ".py",
   "mimetype": "text/x-python",
   "name": "python",
   "nbconvert_exporter": "python",
   "pygments_lexer": "ipython3",
   "version": "3.8.0"
  }
 },
 "nbformat": 4,
 "nbformat_minor": 5
}
