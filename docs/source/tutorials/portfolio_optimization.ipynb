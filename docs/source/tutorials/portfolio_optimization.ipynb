{
 "cells": [
  {
   "attachments": {},
   "cell_type": "markdown",
   "id": "6ddb8a88-779a-43f7-ae14-115463bd87f5",
   "metadata": {},
   "source": [
    "# Portfolio Optimization\n",
    "\n",
    "In this tutorial, we demonstrate the transformation of financial portfolio optimization into a quadratic unconstrained binary optimization (QUBO) problem. Subsequently, we employ the Quantum Approximate Optimization Algorithm (QAOA) to solve it. We will conduct a comparative analysis between the outcomes obtained through QAOA and those derived from classical brute force searching. Additionally, we explore the potential for enhancing results by customizing the QAOA 'mixer' component.\n",
    "\n",
    "## Introduction\n",
    "\n",
    "Consider the following scenario: Xiaoming, an astute individual, possesses a sum of money represented by $B$ and is contemplating investing it in the stock market. The market contains $n$ shares, each having an identical price. Xiaoming's objective is to maximize returns while minimizing risk, taking into account the varying levels of risk tolerance among individuals. Xiaoming's personal risk tolerance is represented by $q$. In light of these considerations, the question arises: Which shares should Xiaoming choose to construct an optimal portfolio?\n",
    "\n",
    "Xiaoming's predicament falls under the purview of portfolio optimization problems. These problems are classified as Quadratic Unconstrained Binary Optimization (QUBO) problems, wherein binary numbers are utilized to represent decisions. In this case, \"1\" signifies selection, while \"0\" denotes the opposite. To address the challenge of portfolio optimization, the Quantum Approximate Optimization Algorithm (QAOA) is employed.\n",
    "\n",
    "## Solving portfolio optimization problems with QAOA\n",
    "\n",
    "In a simple boolean Markowitz portfolio optimization problem, we wish to solve \n",
    "\n",
    "$$\n",
    "\\min_{x\\in\\{0,1\\}^n}\\quad q x^T \\Sigma x - \\mu^T x\n",
    "$$\n",
    "\n",
    "subject to a constraint\n",
    "\n",
    "$$\n",
    "1^T x = B\n",
    "$$\n",
    "\n",
    "where \n",
    "* $n$: number of assets under consideration\n",
    "* $q > 0 $: risk-appetite\n",
    "* $\\Sigma \\in \\mathbb{R}^{n\\times n}$: covariance matrix of the assets\n",
    "* $\\mu\\in\\mathbb{R}^n$: mean return of the assets\n",
    "* $B$: budget (i.e., the total number of assets out of $n$ that can be selected)\n",
    "\n",
    "Our first step is to convert this constrained quadratic programming problem into a QUBO.  We do this by adding a penalty factor $t$ and considering the alternative problem:\n",
    "\n",
    "$$\n",
    "\\min_{x\\in\\{0,1\\}^n}\\quad q x^T \\Sigma x - \\mu^Tx  + t(1^Tx-B)^2\n",
    "$$\n",
    "\n",
    "The linear terms $\\mu^Tx = \\mu_1 x_1 + \\mu_2 x_2+\\ldots$ can all be transformed into squared forms, exploiting the properties of boolean variables where $0^2=0$ and $1^2=1$. The same trick is applied to the middle term of $t(1^Tx-B)^2$. Then the function is written as\n",
    "\n",
    "$$\n",
    "\\min_{x\\in\\{0,1\\}^n}\\quad q x^T \\Sigma x - \\sum_{i=1}^n\\mu_i x_i^2  + t(1^Tx-B)^2\n",
    "$$\n",
    "\n",
    "which is a QUBO problem\n",
    "\n",
    "$$\n",
    "\\min_{x\\in\\{0,1\\}^n}\\quad x^T Q x + tB^2\n",
    "$$\n",
    "\n",
    "where matrix $Q$ is\n",
    "\n",
    "$$\n",
    "Q = q\\Sigma -\\mu\\begin{pmatrix}1 & \\\\ & 1\\\\ & & \\ddots\\end{pmatrix} + t\\begin{pmatrix}1 -2B & 1 & \\ldots & 1 \\\\\n",
    "1 & 1-2B & 1 & \\ldots \\\\1 & 1 & 1-2B \\\\\n",
    "\\vdots\\end{pmatrix}\n",
    "$$\n",
    "\n",
    "and we ignore the constant term $t B^2$. We can now solve this by QAOA.\n",
    "\n",
    "## Set up"
   ]
  },
  {
   "cell_type": "code",
   "execution_count": 2,
   "id": "4f4feab6",
   "metadata": {},
   "outputs": [],
   "source": [
    "import tensorcircuit as tc\n",
    "import numpy as np\n",
    "import tensorflow as tf\n",
    "import matplotlib.pyplot as plt\n",
    "\n",
    "from tensorcircuit.templates.ansatz import QAOA_ansatz_for_Ising\n",
    "from tensorcircuit.templates.conversions import QUBO_to_Ising\n",
    "from tensorcircuit.applications.optimization import QUBO_QAOA, QAOA_loss\n",
    "from tensorcircuit.applications.finance.portfolio import StockData, QUBO_from_portfolio\n",
    "\n",
    "K = tc.set_backend(\"tensorflow\")\n",
    "tf.compat.v1.logging.set_verbosity(tf.compat.v1.logging.ERROR)"
   ]
  },
  {
   "cell_type": "markdown",
   "id": "55659298",
   "metadata": {},
   "source": [
    "## Import data\n",
    "\n",
    "To optimize a portfolio, it is essential to utilize historical data from various stocks within the same time frame. Websites such as [Nasdaq](Nasdaq.com) and [Yahoo Finance](https://finance.yahoo.com/) provide access to such data. The next step involves transforming this data into an annualized return ($\\mu$) and covariance matrix ($\\sigma$), which can be recognized by the Quantum Approximate Optimization Algorithm (QAOA). To simplify this process, we can utilize the `StockData` class. This class performs the necessary calculations for annualized return and covariance, as outlined in this [paper](https://doi.org/10.1007/s11128-022-03766-5). They are:\n",
    "\n",
    "$$\n",
    "\\mu = \\left[\\prod ^m_{k=1}\\left(1+r_k^{(i)}\\right)\\right]^{\\frac{252}{m}}\\\\\n",
    "\\sigma_{ij}=\\frac{252}{m}\\sum^m_{k=1}\\left(r_k^{(i)}-\\overline{r^{(i)}}\\right)\\left(r_k^{(j)}-\\overline{r^{(j)}}\\right)\n",
    "$$\n",
    "\n",
    "Here is a demonstration of how to use this class:"
   ]
  },
  {
   "cell_type": "code",
   "execution_count": 12,
   "id": "62bf0673",
   "metadata": {},
   "outputs": [],
   "source": [
    "import random\n",
    "\n",
    "# randomly generate historical data of 6 stocks in 1000 days\n",
    "data = [[random.random() for i in range(1000)] for j in range(6)]\n",
    "stock_data = StockData(data)  # Create an instance\n",
    "\n",
    "# calculate the annualized return and covariance matrix\n",
    "mu = stock_data.get_return()\n",
    "sigma = stock_data.get_covariance()\n",
    "\n",
    "# some other information can also be obtained from this class\n",
    "n_stocks = stock_data.n_stocks  # number of stocks\n",
    "n_days = stock_data.n_days  # length of the time span\n",
    "daily_change = stock_data.daily_change  # relative change of each day"
   ]
  },
  {
   "cell_type": "markdown",
   "id": "0fb1d227",
   "metadata": {},
   "source": [
    "In this analysis, we have carefully chosen six prominent stocks: Apple Inc. (AAPL), Microsoft Corporation (MSFT), NVIDIA Corporation (NVDA), Pfizer Inc. (PFE), Levi Strauss & Co. (LEVI), and Cisco Systems, Inc. (CSCO). We acquired their historical data spanning from 09/07/2022 to 09/07/2023 from Yahoo Finance. Here are the return and covariance associated with this dataset"
   ]
  },
  {
   "cell_type": "code",
   "execution_count": 4,
   "id": "a7eb3a74",
   "metadata": {},
   "outputs": [],
   "source": [
    "# real-world stock data, calculated using the class above\n",
    "# stock name: aapl, msft, nvda, pfe, levi, csco\n",
    "# from 09/07/2022 to 09/07/2023\n",
    "mu = [1.21141, 1.15325, 2.06457, 0.63539, 0.63827, 1.12224]\n",
    "\n",
    "sigma = np.array(\n",
    "    [\n",
    "        [0.08488, 0.06738, 0.09963, 0.02124, 0.05516, 0.04059],\n",
    "        [0.06738, 0.10196, 0.11912, 0.02163, 0.0498, 0.04049],\n",
    "        [0.09963, 0.11912, 0.31026, 0.01977, 0.10415, 0.06179],\n",
    "        [0.02124, 0.02163, 0.01977, 0.05175, 0.01792, 0.02137],\n",
    "        [0.05516, 0.0498, 0.10415, 0.01792, 0.19366, 0.0432],\n",
    "        [0.04059, 0.04049, 0.06179, 0.02137, 0.0432, 0.05052],\n",
    "    ]\n",
    ")"
   ]
  },
  {
   "attachments": {},
   "cell_type": "markdown",
   "id": "f6dc53d4-7ed0-436d-aa1f-8674c56e756e",
   "metadata": {},
   "source": [
    "Using this mean and covariance data, we can now define our portfolio optimization problem, convert it to a QUBO matrix, and then extract the Pauli terms and weights, which is similar to what we do in the [QUBO tutorial](https://tensorcircuit.readthedocs.io/en/latest/tutorials/qubo_problem.html)."
   ]
  },
  {
   "cell_type": "code",
   "execution_count": 6,
   "id": "3f6edcd5-3c10-49fc-86ea-160fc6d3187e",
   "metadata": {},
   "outputs": [],
   "source": [
    "q = 0.5  # the risk preference of investor\n",
    "budget = 4  # Note that in this example, there are 6 assets, but a budget of only 4\n",
    "penalty = 1.2\n",
    "\n",
    "Q = QUBO_from_portfolio(sigma, mu, q, budget, penalty)\n",
    "portfolio_pauli_terms, portfolio_weights, portfolio_offset = QUBO_to_Ising(Q)"
   ]
  },
  {
   "cell_type": "markdown",
   "id": "730da712",
   "metadata": {},
   "source": [
    "## Classical method\n",
    "\n",
    "We first use brute force to calculate the cost of each combination, which is the expectation value $x^TQx$ for each $x\\in\\{0, 1\\}^n$ ($n$ is the number of stocks). It will give us a clue about the performance of QAOA."
   ]
  },
  {
   "cell_type": "code",
   "execution_count": 31,
   "id": "168f7c36",
   "metadata": {},
   "outputs": [],
   "source": [
    "def print_Q_cost(Q, wrap=False, reverse=False):\n",
    "    n_stocks = len(Q)\n",
    "    states = []\n",
    "    for i in range(2**n_stocks):\n",
    "        a = f\"{bin(i)[2:]:0>{n_stocks}}\"\n",
    "        n_ones = 0\n",
    "        for j in a:\n",
    "            if j == \"1\":\n",
    "                n_ones += 1\n",
    "        states.append(a)\n",
    "\n",
    "    cost_dict = {}\n",
    "    for selection in states:\n",
    "        x = np.array([int(bit) for bit in selection])\n",
    "        cost_dict[selection] = np.dot(x, np.dot(Q, x))\n",
    "    cost_sorted = dict(sorted(cost_dict.items(), key=lambda item: item[1]))\n",
    "    if reverse == True:\n",
    "        cost_sorted = dict(\n",
    "            sorted(cost_dict.items(), key=lambda item: item[1], reverse=True)\n",
    "        )\n",
    "    num = 0\n",
    "    print(\"\\n-------------------------------------\")\n",
    "    print(\"    selection\\t  |\\t  cost\")\n",
    "    print(\"-------------------------------------\")\n",
    "    for k, v in cost_sorted.items():\n",
    "        print(\"%10s\\t  |\\t%.4f\" % (k, v))\n",
    "        num += 1\n",
    "        if (num >= 8) & (wrap == True):\n",
    "            break\n",
    "    print(\"     ...\\t  |\\t  ...\")\n",
    "    print(\"-------------------------------------\")"
   ]
  },
  {
   "cell_type": "code",
   "execution_count": 32,
   "id": "6a9d41c9",
   "metadata": {},
   "outputs": [
    {
     "name": "stdout",
     "output_type": "stream",
     "text": [
      "\n",
      "-------------------------------------\n",
      "    selection\t  |\t  cost\n",
      "-------------------------------------\n",
      "    111001\t  |\t-24.0487\n",
      "    101101\t  |\t-23.7205\n",
      "    111100\t  |\t-23.6414\n",
      "    011101\t  |\t-23.6340\n",
      "    101011\t  |\t-23.5123\n",
      "    011011\t  |\t-23.4316\n",
      "    111010\t  |\t-23.4269\n",
      "    111101\t  |\t-23.3742\n",
      "     ...\t  |\t  ...\n",
      "-------------------------------------\n"
     ]
    }
   ],
   "source": [
    "print_Q_cost(Q, wrap=True)"
   ]
  },
  {
   "attachments": {},
   "cell_type": "markdown",
   "id": "c34f3398",
   "metadata": {},
   "source": [
    "### Use QAOA\n",
    "\n",
    "Here, a standard QAOA ansatz with 12 layers is used. This circuit will be trained for 1000 iterations."
   ]
  },
  {
   "cell_type": "code",
   "execution_count": 33,
   "id": "9249ea96",
   "metadata": {},
   "outputs": [
    {
     "data": {
      "image/png": "[encoded data removed]",
      "text/plain": [
       "<Figure size 640x480 with 1 Axes>"
      ]
     },
     "metadata": {},
     "output_type": "display_data"
    }
   ],
   "source": [
    "iterations = 1000\n",
    "nlayers = 12\n",
    "loss_list = []\n",
    "\n",
    "\n",
    "# define a callback function to recode the loss\n",
    "def record_loss(loss, params):\n",
    "    loss_list.append(loss)\n",
    "\n",
    "\n",
    "# apply QAOA on this portfolio optimization problem\n",
    "final_params = QUBO_QAOA(Q, nlayers, iterations, callback=record_loss)\n",
    "\n",
    "p = plt.plot(loss_list)"
   ]
  },
  {
   "cell_type": "markdown",
   "id": "9126333d",
   "metadata": {},
   "source": [
    "Create a function to visualize the results, listing all combinations in descending order of probability."
   ]
  },
  {
   "cell_type": "code",
   "execution_count": 34,
   "id": "4a2c60e4",
   "metadata": {},
   "outputs": [],
   "source": [
    "def print_result_prob(c, wrap=False, reverse=False):\n",
    "    states = []\n",
    "    n_qubits = c._nqubits\n",
    "    for i in range(2**n_qubits):\n",
    "        a = f\"{bin(i)[2:]:0>{n_qubits}}\"\n",
    "        states.append(a)\n",
    "        # Generate all possible binary states for the given number of qubits\n",
    "\n",
    "    probs = K.numpy(c.probability()).round(decimals=4)\n",
    "    # Calculate the probabilities of each state using the circuit's probability method\n",
    "\n",
    "    sorted_indices = np.argsort(probs)[::-1]\n",
    "    if reverse == True:\n",
    "        sorted_indices = sorted_indices[::-1]\n",
    "    state_sorted = np.array(states)[sorted_indices]\n",
    "    prob_sorted = np.array(probs)[sorted_indices]\n",
    "    # Sort the states and probabilities in descending order based on the probabilities\n",
    "\n",
    "    print(\"\\n-------------------------------------\")\n",
    "    print(\"    selection\\t  |\\tprobability\")\n",
    "    print(\"-------------------------------------\")\n",
    "    if wrap == False:\n",
    "        for i in range(len(states)):\n",
    "            print(\"%10s\\t  |\\t  %.4f\" % (state_sorted[i], prob_sorted[i]))\n",
    "            # Print the sorted states and their corresponding probabilities\n",
    "    elif wrap == True:\n",
    "        for i in range(4):\n",
    "            print(\"%10s\\t  |\\t  %.4f\" % (state_sorted[i], prob_sorted[i]))\n",
    "        print(\"               ... ...\")\n",
    "        for i in range(-5, -1):\n",
    "            print(\"%10s\\t  |\\t  %.4f\" % (state_sorted[i], prob_sorted[i]))\n",
    "    print(\"-------------------------------------\")"
   ]
  },
  {
   "cell_type": "code",
   "execution_count": 35,
   "id": "680f52d2",
   "metadata": {},
   "outputs": [
    {
     "name": "stdout",
     "output_type": "stream",
     "text": [
      "\n",
      "-------------------------------------\n",
      "    selection\t  |\tprobability\n",
      "-------------------------------------\n",
      "    111001\t  |\t  0.1169\n",
      "    101101\t  |\t  0.0872\n",
      "    111100\t  |\t  0.0823\n",
      "    101011\t  |\t  0.0809\n",
      "               ... ...\n",
      "    000100\t  |\t  0.0000\n",
      "    010000\t  |\t  0.0000\n",
      "    000010\t  |\t  0.0000\n",
      "    000001\t  |\t  0.0000\n",
      "-------------------------------------\n"
     ]
    }
   ],
   "source": [
    "c_final = QAOA_ansatz_for_Ising(\n",
    "    final_params, nlayers, portfolio_pauli_terms, portfolio_weights\n",
    ")\n",
    "print_result_prob(c_final, wrap=True)"
   ]
  },
  {
   "cell_type": "markdown",
   "id": "71c7a0e0",
   "metadata": {},
   "source": [
    "The highest probability corresponds to the best combination, which is consistent with what we found with classical brute force search.\n",
    "\n",
    "## Use XY mixer to improve the performance\n",
    "\n",
    "In the context of QAOA, XY mixers serve as a specific type of quantum gate to augment the optimization process. XY mixers, which are quantum gates introducing qubit interactions through controlled rotations, enable modification of the quantum system's state. The utilization of XY mixers in QAOA provides several advantages. They facilitate more efficient exploration of the solution space, thereby potentially improving the algorithm's overall performance. Moreover, XY mixers can amplify gradients of the objective function during optimization and enhance quantum circuit depth. Notably, in scenarios like portfolio optimization (covered in another tutorial), where constraints exist, XY mixers preserve the constraints associated with individual combinations while allowing for smooth transitions between them.\n",
    "\n",
    "It is crucial to consider that the choice of mixers relies on the specific problem under consideration, its unique characteristics, and the quantum hardware available."
   ]
  },
  {
   "cell_type": "code",
   "execution_count": 38,
   "id": "3d558b9f",
   "metadata": {},
   "outputs": [
    {
     "data": {
      "image/png": "[encoded data removed]",
      "text/plain": [
       "<Figure size 640x480 with 1 Axes>"
      ]
     },
     "metadata": {},
     "output_type": "display_data"
    }
   ],
   "source": [
    "loss_list = []\n",
    "final_params = QUBO_QAOA(Q, nlayers, iterations, mixer=\"XY\", callback=record_loss)\n",
    "\n",
    "p = plt.plot(loss_list)"
   ]
  },
  {
   "cell_type": "code",
   "execution_count": 39,
   "id": "d83fc94c",
   "metadata": {},
   "outputs": [
    {
     "name": "stdout",
     "output_type": "stream",
     "text": [
      "\n",
      "-------------------------------------\n",
      "    selection\t  |\tprobability\n",
      "-------------------------------------\n",
      "    111001\t  |\t  0.1553\n",
      "    001001\t  |\t  0.1260\n",
      "    101001\t  |\t  0.1180\n",
      "    111000\t  |\t  0.0934\n",
      "               ... ...\n",
      "    100110\t  |\t  0.0000\n",
      "    000111\t  |\t  0.0000\n",
      "    000101\t  |\t  0.0000\n",
      "    000100\t  |\t  0.0000\n",
      "-------------------------------------\n"
     ]
    }
   ],
   "source": [
    "c_final = QAOA_ansatz_for_Ising(\n",
    "    final_params, nlayers, portfolio_pauli_terms, portfolio_weights, mixer=\"XY\"\n",
    ")\n",
    "print_result_prob(c_final, wrap=True)"
   ]
  },
  {
   "cell_type": "markdown",
   "id": "917c9415",
   "metadata": {},
   "source": [
    "Compared with the standard X mixer, the XY mixer gives a higher probability of measuring the best result."
   ]
  }
 ],
 "metadata": {
  "kernelspec": {
   "display_name": "tc_dev",
   "language": "python",
   "name": "python3"
  },
  "language_info": {
   "codemirror_mode": {
    "name": "ipython",
    "version": 3
   },
   "file_extension": ".py",
   "mimetype": "text/x-python",
   "name": "python",
   "nbconvert_exporter": "python",
   "pygments_lexer": "ipython3",
   "version": "3.11.4"
  }
 },
 "nbformat": 4,
 "nbformat_minor": 5
}
