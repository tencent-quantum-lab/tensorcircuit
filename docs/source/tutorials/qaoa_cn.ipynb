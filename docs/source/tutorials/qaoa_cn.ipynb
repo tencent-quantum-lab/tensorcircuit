{
 "cells": [
  {
   "cell_type": "markdown",
   "source": [
    "# 量子近似优化算法 (QAOA)"
   ],
   "metadata": {}
  },
  {
   "cell_type": "markdown",
   "source": [
    "## 概述"
   ],
   "metadata": {}
  },
  {
   "cell_type": "markdown",
   "source": [
    "QAOA 是一种混合经典量子算法，它结合了量子电路与经典优化。\n",
    "在本教程中，我们利用 QAOA 解决最大割 (MAX CUT) 组合优化问题：给定一个图 $G=(V, E)$，其中节点 $V$ 和边 $E$，找到一个子集 $S \\in V$ 使得 $S$ 和 $S \\backslash V$ 之间的边数最大化。\n",
    "这个问题可以简化为寻找反铁磁伊辛模型的基态，其哈密顿量为：\n",
    "\n",
    "$$H_C = \\frac{1}{2} \\sum_{i,j\\in E} C_{ij} \\sigma^{z}_{i} \\sigma^{z}_{j},$$\n",
    "\n",
    "其中 $\\sigma^{z}_{i}$ 是第 $i$ 个量子比特上的 Pauli-z 矩阵，$C_{ij}$ 是节点 $i$ 和 $j$ 之间的边的权重。\n",
    "为简单起见，我们设置 $C_{ij}=1$。如果 $\\sigma^{z}_{i}=\\sigma^{z}_{j}$, $i,j\\in S$ 或 $i,j\\in S \\backslash V$；\n",
    "如果 $\\sigma^{z}_{i}= -\\sigma^{z}_{j}$, $i\\in S, j\\in S \\backslash V$ 或 $i\\in S \\backslash V，j\\ 。\n",
    "显然，$S 和 $S\\backslash V$ 之间的边数在从基态解码的图结构中最大化。"
   ],
   "metadata": {}
  },
  {
   "cell_type": "markdown",
   "source": [
    "## 设置"
   ],
   "metadata": {}
  },
  {
   "cell_type": "code",
   "execution_count": 1,
   "source": [
    "import tensorcircuit as tc\n",
    "import tensorflow as tf\n",
    "import networkx as nx\n",
    "\n",
    "K = tc.set_backend(\"tensorflow\")\n",
    "\n",
    "nlayers = 3  # 层数\n",
    "ncircuits = 2  # 有不同初始参数的电路数量"
   ],
   "outputs": [],
   "metadata": {}
  },
  {
   "cell_type": "markdown",
   "source": [
    "## 定义图"
   ],
   "metadata": {}
  },
  {
   "cell_type": "code",
   "execution_count": 2,
   "source": [
    "def dict2graph(d):\n",
    "    g = nx.to_networkx_graph(d)\n",
    "    for e in g.edges:\n",
    "        if not g[e[0]][e[1]].get(\"weight\"):\n",
    "            g[e[0]][e[1]][\"weight\"] = 1.0\n",
    "    nx.draw(g, with_labels=True)\n",
    "    return g\n",
    "\n",
    "\n",
    "# 一个图实例\n",
    "# 每个节点连接三个节点\n",
    "# 例如，节点 0 连接到节点 1,7,3\n",
    "example_graph_dict = {\n",
    "    0: {1: {\"weight\": 1.0}, 7: {\"weight\": 1.0}, 3: {\"weight\": 1.0}},\n",
    "    1: {0: {\"weight\": 1.0}, 2: {\"weight\": 1.0}, 3: {\"weight\": 1.0}},\n",
    "    2: {1: {\"weight\": 1.0}, 3: {\"weight\": 1.0}, 5: {\"weight\": 1.0}},\n",
    "    4: {7: {\"weight\": 1.0}, 6: {\"weight\": 1.0}, 5: {\"weight\": 1.0}},\n",
    "    7: {4: {\"weight\": 1.0}, 6: {\"weight\": 1.0}, 0: {\"weight\": 1.0}},\n",
    "    3: {1: {\"weight\": 1.0}, 2: {\"weight\": 1.0}, 0: {\"weight\": 1.0}},\n",
    "    6: {7: {\"weight\": 1.0}, 4: {\"weight\": 1.0}, 5: {\"weight\": 1.0}},\n",
    "    5: {6: {\"weight\": 1.0}, 4: {\"weight\": 1.0}, 2: {\"weight\": 1.0}},\n",
    "}\n",
    "\n",
    "example_graph = dict2graph(example_graph_dict)"
   ],
   "outputs": [
    {
     "output_type": "display_data",
     "data": {
      "text/plain": [
       "<Figure size 432x288 with 1 Axes>"
      ],
      "image/png": "[encoded data removed]"
     },
     "metadata": {}
    }
   ],
   "metadata": {}
  },
  {
   "cell_type": "markdown",
   "source": [
    "## 参数化量子电路 (PQC)"
   ],
   "metadata": {}
  },
  {
   "cell_type": "markdown",
   "source": [
    "具有 $p$ 层的 PQC 可以写成：\n",
    "\n",
    "$$U(\\vec{\\beta}, \\vec{\\gamma}) = V_{p}U_{p} \\cdots V_{1}U_{1},$$\n",
    "\n",
    "其中 $U_{j}= e^{-i\\gamma_{j}H_{C}}$ 和 $V_{j}= e^{-i \\beta_{j} \\sum_{k} \\sigma^{x }_{k}}$ "
   ],
   "metadata": {}
  },
  {
   "cell_type": "code",
   "execution_count": 3,
   "source": [
    "def QAOAansatz(params, g=example_graph):\n",
    "    n = len(g.nodes)  # 节点数\n",
    "    c = tc.Circuit(n)\n",
    "    for i in range(n):\n",
    "        c.H(i)\n",
    "    # PQC\n",
    "    for j in range(nlayers):\n",
    "        # U_j\n",
    "        for e in g.edges:\n",
    "            c.exp1(\n",
    "                e[0],\n",
    "                e[1],\n",
    "                unitary=tc.gates._zz_matrix,\n",
    "                theta=g[e[0]][e[1]].get(\"weight\", 1.0) * params[2 * j],\n",
    "            )\n",
    "        # V_j\n",
    "        for i in range(n):\n",
    "            c.rx(i, theta=params[2 * j + 1])\n",
    "\n",
    "    # 计算损失函数\n",
    "    loss = 0.0\n",
    "    for e in g.edges:\n",
    "        loss += c.expectation_ps(z=[e[0], e[1]])\n",
    "\n",
    "    return K.real(loss)"
   ],
   "outputs": [],
   "metadata": {}
  },
  {
   "cell_type": "markdown",
   "source": [
    "## 主优化循环"
   ],
   "metadata": {}
  },
  {
   "cell_type": "code",
   "execution_count": 4,
   "source": [
    "# 使用 vvag 获取不同随机电路实例的损失和梯度\n",
    "QAOA_vvag = K.jit(tc.backend.vvag(QAOAansatz, argnums=0, vectorized_argnums=0))"
   ],
   "outputs": [],
   "metadata": {}
  },
  {
   "cell_type": "code",
   "execution_count": 5,
   "source": [
    "params = K.implicit_randn(shape=[ncircuits, 2 * nlayers], stddev=0.1)  # 初始参数\n",
    "opt = K.optimizer(tf.keras.optimizers.Adam(1e-2))\n",
    "\n",
    "for i in range(50):\n",
    "    loss, grads = QAOA_vvag(params, example_graph)\n",
    "    print(K.numpy(loss))\n",
    "    params = opt.update(grads, params)  # 梯度下降"
   ],
   "outputs": [
    {
     "output_type": "stream",
     "name": "stdout",
     "text": [
      "[-0.23837963 -1.1651934 ]\n",
      "[-0.5175445 -1.4539642]\n",
      "[-0.7306818 -1.6646069]\n",
      "[-0.91530037 -1.8384367 ]\n",
      "[-1.0832287 -1.9884492]\n",
      "[-1.2398103 -2.120449 ]\n",
      "[-1.3878661 -2.2374902]\n",
      "[-1.5290209 -2.341291 ]\n",
      "[-1.6642232 -2.4328852]\n",
      "[-1.7940071 -2.5128942]\n",
      "[-1.9186544 -2.5888019]\n",
      "[-2.0382538 -2.6627793]\n",
      "[-2.152771 -2.735217]\n",
      "[-2.2620971 -2.8060198]\n",
      "[-2.3657765 -2.8749723]\n",
      "[-2.4635859 -2.942443 ]\n",
      "[-2.5571456 -3.0074604]\n",
      "[-2.6474872 -3.071116 ]\n",
      "[-2.7343643 -3.1320357]\n",
      "[-2.8174913 -3.1904984]\n",
      "[-2.896546  -3.2464304]\n",
      "[-2.971222 -3.298626]\n",
      "[-3.0411685 -3.3485155]\n",
      "[-3.1060221 -3.3945203]\n",
      "[-3.1671162 -3.4365993]\n",
      "[-3.2244647 -3.47741  ]\n",
      "[-3.2800133 -3.51378  ]\n",
      "[-3.328074  -3.5467668]\n",
      "[-3.3779154 -3.5716858]\n",
      "[-3.42378   -3.6026983]\n",
      "[-3.4665916 -3.6264663]\n",
      "[-3.5065007 -3.6452012]\n",
      "[-3.5436964 -3.6676104]\n",
      "[-3.5783873 -3.6827888]\n",
      "[-3.6107998 -3.696251 ]\n",
      "[-3.6411772 -3.710956 ]\n",
      "[-3.6697989 -3.725151 ]\n",
      "[-3.6969085 -3.739223 ]\n",
      "[-3.7227716 -3.753837 ]\n",
      "[-3.747642  -3.7637105]\n",
      "[-3.7717733 -3.7778597]\n",
      "[-3.7953677 -3.7897499]\n",
      "[-3.8185773 -3.8026254]\n",
      "[-3.8415692 -3.8186839]\n",
      "[-3.864397  -3.8288355]\n",
      "[-3.887118  -3.8470592]\n",
      "[-3.9089546 -3.8578553]\n",
      "[-3.9298224 -3.8789082]\n",
      "[-3.9531326 -3.898365 ]\n",
      "[-3.9759274 -3.9132624]\n"
     ]
    }
   ],
   "metadata": {}
  }
 ],
 "metadata": {
  "kernelspec": {
   "display_name": "Python 3 (ipykernel)",
   "language": "python",
   "name": "python3"
  },
  "language_info": {
   "codemirror_mode": {
    "name": "ipython",
    "version": 3
   },
   "file_extension": ".py",
   "mimetype": "text/x-python",
   "name": "python",
   "nbconvert_exporter": "python",
   "pygments_lexer": "ipython3",
   "version": "3.7.11"
  }
 },
 "nbformat": 4,
 "nbformat_minor": 5
}