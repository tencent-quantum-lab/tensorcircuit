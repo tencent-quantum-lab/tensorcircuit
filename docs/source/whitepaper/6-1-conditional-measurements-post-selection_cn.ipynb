{
 "cells": [
  {
   "cell_type": "markdown",
   "id": "c08d9f6a",
   "metadata": {},
   "source": [
    "# 不同类型的测量 API"
   ]
  },
  {
   "cell_type": "markdown",
   "id": "36b3ca73",
   "metadata": {},
   "source": [
    "## 概述\n",
    "\n",
    "TensorCircuit 允许执行与测量结果相关的两种操作。\n",
    "这些是 (i) 条件测量，其结果可用于控制下游条件量子门，以及 (ii) 后选择，它允许用户选择与特定测量结果相对应的测量后状态。"
   ]
  },
  {
   "cell_type": "markdown",
   "id": "c84b2c24",
   "metadata": {},
   "source": [
    "## 设置"
   ]
  },
  {
   "cell_type": "code",
   "execution_count": 1,
   "id": "5a7fe0d3",
   "metadata": {},
   "outputs": [],
   "source": [
    "import tensorcircuit as tc\n",
    "import numpy as np\n",
    "\n",
    "K = tc.set_backend(\"tensorflow\")"
   ]
  },
  {
   "cell_type": "markdown",
   "id": "7d7b8153",
   "metadata": {},
   "source": [
    "## 条件测量\n",
    "\n",
    "\n",
    "`cond_measure` 命令用于模拟对量子比特执行 Z 测量的过程，以 Born 规则给出的概率生成测量结果，然后根据测量结果坍缩波函数。\n",
    "获得的经典测量结果可以通过 `conditional_gate` API 作为后续量子操作的控制，并且可以用于例如实现规范的隐形传输电路。"
   ]
  },
  {
   "cell_type": "code",
   "execution_count": 2,
   "id": "5b0deeb9",
   "metadata": {},
   "outputs": [],
   "source": [
    "# 状态的量子隐形传态|psi> = a|0> + sqrt(1-a^2)|1>\n",
    "a = 0.3\n",
    "input_state = np.kron(np.array([a, np.sqrt(1 - a**2)]), np.array([1, 0, 0, 0]))\n",
    "\n",
    "c = tc.Circuit(3, inputs=input_state)\n",
    "c.h(2)\n",
    "c.cnot(2, 1)\n",
    "c.cnot(0, 1)\n",
    "c.h(0)\n",
    "\n",
    "# 中间电路测量\n",
    "z = c.cond_measure(0)\n",
    "x = c.cond_measure(1)\n",
    "\n",
    "# 如果 x = 0 应用 I，如果 x = 1 应用 X（到 qubit 2）\n",
    "c.conditional_gate(x, [tc.gates.i(), tc.gates.x()], 2)\n",
    "\n",
    "# 如果 z = 0 应用 I，如果 z = 1 应用 Z（到 qubit 2）\n",
    "c.conditional_gate(z, [tc.gates.i(), tc.gates.z()], 2)"
   ]
  },
  {
   "cell_type": "code",
   "execution_count": 3,
   "id": "8dfa278d",
   "metadata": {},
   "outputs": [
    {
     "data": {
      "text/plain": [
       "((<tf.Tensor: shape=(1,), dtype=float32, numpy=array([1.], dtype=float32)>,\n",
       "  <tf.Tensor: shape=(), dtype=float32, numpy=0.90999997>),\n",
       " 0.09,\n",
       " 0.91)"
      ]
     },
     "execution_count": 3,
     "metadata": {},
     "output_type": "execute_result"
    }
   ],
   "source": [
    "# 我们确实在第三个量子位恢复了状态。\n",
    "\n",
    "c.measure(2, with_prob=True), a**2, 1 - a**2"
   ]
  },
  {
   "cell_type": "markdown",
   "id": "e1c7f52a",
   "metadata": {},
   "source": [
    "传送电路如下图所示。\n",
    "![](../statics/teleportation.png)"
   ]
  },
  {
   "cell_type": "markdown",
   "id": "06aad1d2",
   "metadata": {},
   "source": [
    "## 后选择\n",
    "\n",
    "在 TensorCircuit 中通过 post_select 方法启用后选择。这允许用户通过 ``keep`` 参数选择量子位的 $Z$ 测量后状态。\n",
    "与 ``cond_measure`` 不同，``post_select`` 返回的状态是折叠的，但不是归一化的。"
   ]
  },
  {
   "cell_type": "code",
   "execution_count": 4,
   "id": "83d95029",
   "metadata": {},
   "outputs": [
    {
     "data": {
      "text/plain": [
       "<tf.Tensor: shape=(4,), dtype=complex64, numpy=\n",
       "array([0.        +0.j, 0.        +0.j, 0.        +0.j, 0.70710677+0.j],\n",
       "      dtype=complex64)>"
      ]
     },
     "execution_count": 4,
     "metadata": {},
     "output_type": "execute_result"
    }
   ],
   "source": [
    "c = tc.Circuit(2, inputs=np.array([1, 0, 0, 1] / np.sqrt(2)))\n",
    "c.post_select(0, keep=1)  # 测量 qubit 0，对结果 1 进行后选择\n",
    "c.state()"
   ]
  },
  {
   "cell_type": "markdown",
   "id": "f32fa9bf",
   "metadata": {},
   "source": [
    "这个例子初始化了一个 $2$-qubit 最大纠缠态 $\\vert{\\psi}\\rangle = \\frac{\\vert{00}\\rangle+\\vert{11}\\rangle}{\\sqrt{2}}$。\n",
    "然后在 $Z$-basis 中测量第一个量子比特 ($q_0$)，并后选择对应于测量结果 $1$ 的非归一化状态 $\\vert{11}\\rangle/\\sqrt{2}$。\n",
    "这种具有非归一化状态的后选择方案速度很快，例如，可用于探索各种量子算法和非平凡的量子物理学，例如测量引起的纠缠相变。"
   ]
  },
  {
   "cell_type": "markdown",
   "id": "8f68b0e6",
   "metadata": {},
   "source": [
    "## 普通测量"
   ]
  },
  {
   "cell_type": "code",
   "execution_count": 5,
   "id": "095a1483",
   "metadata": {},
   "outputs": [
    {
     "name": "stdout",
     "output_type": "stream",
     "text": [
      "(<tf.Tensor: shape=(1,), dtype=float32, numpy=array([1.], dtype=float32)>, <tf.Tensor: shape=(), dtype=float32, numpy=0.5>)\n",
      "(<tf.Tensor: shape=(2,), dtype=float32, numpy=array([1., 0.], dtype=float32)>, <tf.Tensor: shape=(), dtype=float32, numpy=0.49999997>)\n"
     ]
    }
   ],
   "source": [
    "c = tc.Circuit(3)\n",
    "c.H(0)\n",
    "print(c.measure(0, with_prob=True))\n",
    "print(c.measure(0, 1, with_prob=True))"
   ]
  },
  {
   "cell_type": "markdown",
   "id": "4da81502",
   "metadata": {},
   "source": [
    "请注意，在测量后状态不会坍缩的意义上，普通测量 API 是虚拟的。"
   ]
  },
  {
   "cell_type": "code",
   "execution_count": 6,
   "id": "6ef14570",
   "metadata": {},
   "outputs": [
    {
     "name": "stdout",
     "output_type": "stream",
     "text": [
      "(<tf.Tensor: shape=(1,), dtype=float32, numpy=array([0.], dtype=float32)>, <tf.Tensor: shape=(), dtype=float32, numpy=0.49999997>)\n",
      "(<tf.Tensor: shape=(1,), dtype=float32, numpy=array([1.], dtype=float32)>, <tf.Tensor: shape=(), dtype=float32, numpy=0.5>)\n",
      "(<tf.Tensor: shape=(1,), dtype=float32, numpy=array([0.], dtype=float32)>, <tf.Tensor: shape=(), dtype=float32, numpy=0.49999997>)\n",
      "(<tf.Tensor: shape=(1,), dtype=float32, numpy=array([0.], dtype=float32)>, <tf.Tensor: shape=(), dtype=float32, numpy=0.49999997>)\n",
      "(<tf.Tensor: shape=(1,), dtype=float32, numpy=array([0.], dtype=float32)>, <tf.Tensor: shape=(), dtype=float32, numpy=0.49999997>)\n"
     ]
    }
   ],
   "source": [
    "for _ in range(5):\n",
    "    print(c.measure(0, with_prob=True))"
   ]
  },
  {
   "cell_type": "markdown",
   "id": "96e803f7",
   "metadata": {},
   "source": [
    "让我们即时编译 `measure`！（仔细的随机数操作）。"
   ]
  },
  {
   "cell_type": "code",
   "execution_count": 7,
   "id": "4f87ed82",
   "metadata": {},
   "outputs": [
    {
     "name": "stdout",
     "output_type": "stream",
     "text": [
      "tf.Tensor([0. 0. 0.], shape=(3,), dtype=float32)\n",
      "tf.Tensor([0. 1. 0.], shape=(3,), dtype=float32)\n",
      "tf.Tensor([0. 1. 0.], shape=(3,), dtype=float32)\n",
      "tf.Tensor([0. 0. 0.], shape=(3,), dtype=float32)\n",
      "tf.Tensor([0. 1. 0.], shape=(3,), dtype=float32)\n",
      "tf.Tensor([0. 0. 0.], shape=(3,), dtype=float32)\n",
      "tf.Tensor([0. 0. 0.], shape=(3,), dtype=float32)\n",
      "tf.Tensor([0. 0. 0.], shape=(3,), dtype=float32)\n",
      "tf.Tensor([0. 0. 0.], shape=(3,), dtype=float32)\n",
      "tf.Tensor([0. 0. 0.], shape=(3,), dtype=float32)\n",
      "tf.Tensor([0. 0. 0.], shape=(3,), dtype=float32)\n",
      "tf.Tensor([0. 0. 0.], shape=(3,), dtype=float32)\n",
      "tf.Tensor([0. 1. 0.], shape=(3,), dtype=float32)\n",
      "tf.Tensor([0. 0. 0.], shape=(3,), dtype=float32)\n",
      "tf.Tensor([0. 1. 0.], shape=(3,), dtype=float32)\n",
      "tf.Tensor([0. 0. 1.], shape=(3,), dtype=float32)\n",
      "tf.Tensor([1. 0. 0.], shape=(3,), dtype=float32)\n",
      "tf.Tensor([0. 0. 0.], shape=(3,), dtype=float32)\n",
      "tf.Tensor([0. 0. 0.], shape=(3,), dtype=float32)\n",
      "tf.Tensor([1. 1. 0.], shape=(3,), dtype=float32)\n",
      "tf.Tensor([0. 0. 1.], shape=(3,), dtype=float32)\n",
      "tf.Tensor([0. 0. 0.], shape=(3,), dtype=float32)\n",
      "tf.Tensor([0. 0. 0.], shape=(3,), dtype=float32)\n",
      "tf.Tensor([0. 1. 0.], shape=(3,), dtype=float32)\n",
      "tf.Tensor([0. 0. 0.], shape=(3,), dtype=float32)\n",
      "tf.Tensor([1. 0. 1.], shape=(3,), dtype=float32)\n",
      "tf.Tensor([0. 0. 0.], shape=(3,), dtype=float32)\n",
      "tf.Tensor([0. 0. 0.], shape=(3,), dtype=float32)\n",
      "tf.Tensor([0. 0. 0.], shape=(3,), dtype=float32)\n",
      "tf.Tensor([0. 1. 0.], shape=(3,), dtype=float32)\n"
     ]
    }
   ],
   "source": [
    "n = 3\n",
    "key = K.get_random_state(42)\n",
    "\n",
    "\n",
    "def measure_on(param, index, key):\n",
    "    K.set_random_state(key)\n",
    "    c = tc.Circuit(n)\n",
    "    for i in range(n):\n",
    "        c.rx(i, theta=param[i])\n",
    "    return c.measure(*index)[0]\n",
    "\n",
    "\n",
    "measure_on_jit = K.jit(measure_on, static_argnums=1)\n",
    "\n",
    "key1 = key\n",
    "for _ in range(30):\n",
    "    key1, key2 = K.random_split(key1)\n",
    "    print(measure_on_jit(K.ones([n]), [0, 1, 2], key2))"
   ]
  },
  {
   "cell_type": "markdown",
   "id": "85fa8168",
   "metadata": {},
   "source": [
    "有关普通 `measure` 和我们在这里提到的两种测量类型之间差异的摘要，请参阅[FAQ 文档](../faq.html#how-to-understand-the-difference-between-different-measurement-methods-for-circuit)."
   ]
  }
 ],
 "metadata": {
  "kernelspec": {
   "display_name": "Python 3 (ipykernel)",
   "language": "python",
   "name": "python3"
  },
  "language_info": {
   "codemirror_mode": {
    "name": "ipython",
    "version": 3
   },
   "file_extension": ".py",
   "mimetype": "text/x-python",
   "name": "python",
   "nbconvert_exporter": "python",
   "pygments_lexer": "ipython3",
   "version": "3.8.0"
  }
 },
 "nbformat": 4,
 "nbformat_minor": 5
}