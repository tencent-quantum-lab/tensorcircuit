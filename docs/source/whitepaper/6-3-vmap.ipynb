{
 "cells": [
  {
   "cell_type": "markdown",
   "id": "43778e92",
   "metadata": {},
   "source": [
    "# Utilizing vmap in Quantum Circuit Simulations"
   ]
  },
  {
   "cell_type": "markdown",
   "id": "6326b34d",
   "metadata": {},
   "source": [
    "## Overview\n",
    "\n",
    "We introduce vmap, the advanced feature of the modern machine learning library, to quantum circuit simulations.\n",
    "By vmapping different ingredients of quantum circuit simulation, we can implement variational quantum algorithms with high efficiency.\n",
    "\n",
    "It is worth noting that in the following use cases, vmap is supported together with jit and AD which renders highly efficient differentiable simulation.\n",
    "\n",
    "The ingredients that support vmap paradigm are shown in the following figure.\n",
    "![vmap ingredients](../statics/vmap_ingredients.png)\n",
    "\n",
    "We have two different types of APIs for vmap, the first one is ``vmap`` while the second one is ``vectorized_value_and_grad``, aka, ``vvag``.\n",
    "The latter can also return the gradient information over a batch of the different circuits."
   ]
  },
  {
   "cell_type": "markdown",
   "id": "92b11cff",
   "metadata": {},
   "source": [
    "If batch evaluation of gradients as well as function values is required, then this can be done via ``vectorized_value_and_grad``. In the simplest case, consider a function \n",
    "$f(x,y)$ where $x\\in R^p,y\\in R^q$ are both vectors, and one wishes to evaluate both $f(x,y)$ and $\\sum_x\\nabla_y f(x,y) = \\sum_x\\left ( \\frac{\\partial f(x,y_1)}{\\partial y_1},\\ldots, \\frac{\\partial f(x,y_q)}{\\partial y_q}\\right )^\\top$ over a batch $x_1, x_2,\\ldots, x_k$ of inputs $x$. This is achieved by creating a new, vectorized value-and-gradient function :"
   ]
  },
  {
   "cell_type": "code",
   "execution_count": 1,
   "id": "32cd946e",
   "metadata": {},
   "outputs": [
    {
     "data": {
      "text/latex": [
       "\\begin{equation}\n",
       "f_{vvg}\\left( \\begin{pmatrix} \\leftarrow x_1 \\rightarrow\\\\ \\vdots \\\\ \\leftarrow x_k \\rightarrow\\end{pmatrix}, y \\right) =\n",
       "\\begin{pmatrix} \\begin{pmatrix}f(x_1, y) \\\\ \\vdots \\\\\n",
       "f(x_k,y)\\end{pmatrix},\\sum_{i=1}^k \\nabla_y f(x_i,y) \\end{pmatrix}\n",
       "\\end{equation}\n"
      ],
      "text/plain": [
       "<IPython.core.display.Latex object>"
      ]
     },
     "metadata": {},
     "output_type": "display_data"
    }
   ],
   "source": [
    "%%latex\n",
    "\\begin{equation}\n",
    "f_{vvg}\\left( \\begin{pmatrix} \\leftarrow x_1 \\rightarrow\\\\ \\vdots \\\\ \\leftarrow x_k \\rightarrow\\end{pmatrix}, y \\right) =\n",
    "\\begin{pmatrix} \\begin{pmatrix}f(x_1, y) \\\\ \\vdots \\\\\n",
    "f(x_k,y)\\end{pmatrix},\\sum_{i=1}^k \\nabla_y f(x_i,y) \\end{pmatrix}\n",
    "\\end{equation}"
   ]
  },
  {
   "cell_type": "markdown",
   "id": "ae3c08b5",
   "metadata": {},
   "source": [
    "which takes as zeroth argument the batched inputs expressed as a $k\\times p$ tensor, and as first argument the variables we wish to differentiate with respect to. The outputs are a vector of function values evaluated at all points $(x_i,y)$, and the gradient averaged over all those points."
   ]
  },
  {
   "cell_type": "markdown",
   "id": "8861f306",
   "metadata": {},
   "source": [
    "## Setup"
   ]
  },
  {
   "cell_type": "code",
   "execution_count": 2,
   "id": "5398ff95",
   "metadata": {},
   "outputs": [
    {
     "name": "stdout",
     "output_type": "stream",
     "text": [
      "0.0.220509\n"
     ]
    }
   ],
   "source": [
    "import numpy as np\n",
    "import tensorcircuit as tc\n",
    "\n",
    "tc.set_backend(\"tensorflow\")\n",
    "print(tc.__version__)\n",
    "\n",
    "nwires = 5\n",
    "nlayers = 2\n",
    "batch = 6"
   ]
  },
  {
   "cell_type": "markdown",
   "id": "65d543db",
   "metadata": {},
   "source": [
    "## vmap the Input States\n",
    "\n",
    "Use case: batch processing of input states in quantum machine learning task.\n",
    "\n",
    "For applications of batched input state processing, please see [MNIST QML tutorial](../tutorials/mnist_qml.ipynb)."
   ]
  },
  {
   "cell_type": "markdown",
   "id": "1ae562cb",
   "metadata": {},
   "source": [
    "### Minimal Example"
   ]
  },
  {
   "cell_type": "code",
   "execution_count": 3,
   "id": "ba8de9bd",
   "metadata": {},
   "outputs": [
    {
     "data": {
      "text/plain": [
       "(<tf.Tensor: shape=(6,), dtype=float32, numpy=\n",
       " array([10.88678, 10.88678, 10.88678, 10.88678, 10.88678, 10.88678],\n",
       "       dtype=float32)>,\n",
       " <tf.Tensor: shape=(4, 5), dtype=complex64, numpy=\n",
       " array([[ 0.0000000e+00+1.3064140e+02j, -1.1444092e-05+1.3064142e+02j,\n",
       "          0.0000000e+00+1.3064140e+02j,  0.0000000e+00+1.3064139e+02j,\n",
       "          0.0000000e+00+0.0000000e+00j],\n",
       "        [-1.9073486e-06-5.1765751e-06j, -5.1105431e+01-5.7347143e-07j,\n",
       "         -8.1339760e+01-6.6063179e+01j, -5.1105446e+01+3.3477118e-06j,\n",
       "         -7.6293945e-06+1.5500746e-07j],\n",
       "        [ 0.0000000e+00+8.4607742e+01j, -1.3292285e+02+1.1209973e+02j,\n",
       "         -1.3292284e+02+1.1209971e+02j,  1.5258789e-05+8.4607750e+01j,\n",
       "          0.0000000e+00+0.0000000e+00j],\n",
       "        [ 1.9073486e-06+5.9908474e+01j, -1.5258789e-05-1.9285599e+01j,\n",
       "         -8.1339752e+01+3.8049275e-06j,  3.8146973e-06-1.9285591e+01j,\n",
       "         -9.5367432e-06+5.9908482e+01j]], dtype=complex64)>)"
      ]
     },
     "execution_count": 3,
     "metadata": {},
     "output_type": "execute_result"
    }
   ],
   "source": [
    "def f(inputs, weights):\n",
    "    c = tc.Circuit(nwires, inputs=inputs)\n",
    "    c = tc.templates.blocks.example_block(c, weights, nlayers=nlayers)\n",
    "    loss = c.expectation([tc.gates.z(), [2]])\n",
    "    loss = tc.backend.real(loss)\n",
    "    return loss\n",
    "\n",
    "\n",
    "f_vg = tc.backend.jit(tc.backend.vvag(f, argnums=1, vectorized_argnums=0))\n",
    "f_vg(tc.backend.ones([batch, 2**nwires]), tc.backend.ones([2 * nlayers, nwires]))"
   ]
  },
  {
   "cell_type": "markdown",
   "id": "53f11707",
   "metadata": {},
   "source": [
    "## vmap the Circuit Weights\n",
    "\n",
    "Use case: batched VQE, where different random initialization parameters are optimized simultaneously.\n",
    "\n",
    "For application on batched VQE, please refer [TFIM VQE tutorial](../tutorials/tfim_vqe.ipynb)."
   ]
  },
  {
   "cell_type": "markdown",
   "id": "09f90b5e",
   "metadata": {},
   "source": [
    "### Minimal Example"
   ]
  },
  {
   "cell_type": "code",
   "execution_count": 4,
   "id": "8c1dc0f8",
   "metadata": {
    "scrolled": false
   },
   "outputs": [
    {
     "data": {
      "text/plain": [
       "(<tf.Tensor: shape=(6,), dtype=float32, numpy=\n",
       " array([-2.9802322e-08, -2.9802322e-08, -2.9802322e-08, -2.9802322e-08,\n",
       "        -2.9802322e-08, -2.9802322e-08], dtype=float32)>,\n",
       " <tf.Tensor: shape=(6, 4, 5), dtype=complex64, numpy=\n",
       " array([[[ 1.1614500e-08+2.1480869e-08j, -9.2439478e-10-1.8808342e-08j,\n",
       "           2.6397275e-08-8.0511313e-09j,  2.7981415e-08-1.6564460e-08j,\n",
       "           0.0000000e+00+0.0000000e+00j],\n",
       "         [ 4.1470027e-09-1.9918247e-08j, -7.7494953e-09+9.5806874e-09j,\n",
       "           0.0000000e+00-1.3076999e-08j,  1.2109957e-09+3.2571617e-08j,\n",
       "          -1.0110498e-08+1.6951747e-08j],\n",
       "         [ 1.1614500e-08-1.0295013e-08j, -1.6102263e-08+2.5077789e-08j,\n",
       "          -3.2204525e-08+5.0155577e-08j,  1.8346144e-08-3.5633683e-09j,\n",
       "           0.0000000e+00+0.0000000e+00j],\n",
       "         [-7.1439974e-09-3.3070933e-09j,  0.0000000e+00+6.8412485e-09j,\n",
       "           1.4287995e-08-9.5050003e-09j, -7.1439974e-09-6.5384995e-09j,\n",
       "          -2.3792996e-08-7.8779987e-09j]],\n",
       " \n",
       "        [[ 1.1614500e-08+2.1480869e-08j, -9.2439478e-10-1.8808342e-08j,\n",
       "           2.6397275e-08-8.0511313e-09j,  2.7981415e-08-1.6564460e-08j,\n",
       "           0.0000000e+00+0.0000000e+00j],\n",
       "         [ 4.1470027e-09-1.9918247e-08j, -7.7494953e-09+9.5806874e-09j,\n",
       "           0.0000000e+00-1.3076999e-08j,  1.2109957e-09+3.2571617e-08j,\n",
       "          -1.0110498e-08+1.6951747e-08j],\n",
       "         [ 1.1614500e-08-1.0295013e-08j, -1.6102263e-08+2.5077789e-08j,\n",
       "          -3.2204525e-08+5.0155577e-08j,  1.8346144e-08-3.5633683e-09j,\n",
       "           0.0000000e+00+0.0000000e+00j],\n",
       "         [-7.1439974e-09-3.3070933e-09j,  0.0000000e+00+6.8412485e-09j,\n",
       "           1.4287995e-08-9.5050003e-09j, -7.1439974e-09-6.5384995e-09j,\n",
       "          -2.3792996e-08-7.8779987e-09j]],\n",
       " \n",
       "        [[ 1.1614500e-08+2.1480869e-08j, -9.2439478e-10-1.8808342e-08j,\n",
       "           2.6397275e-08-8.0511313e-09j,  2.7981415e-08-1.6564460e-08j,\n",
       "           0.0000000e+00+0.0000000e+00j],\n",
       "         [ 4.1470027e-09-1.9918247e-08j, -7.7494953e-09+9.5806874e-09j,\n",
       "           0.0000000e+00-1.3076999e-08j,  1.2109957e-09+3.2571617e-08j,\n",
       "          -1.0110498e-08+1.6951747e-08j],\n",
       "         [ 1.1614500e-08-1.0295013e-08j, -1.6102263e-08+2.5077789e-08j,\n",
       "          -3.2204525e-08+5.0155577e-08j,  1.8346144e-08-3.5633683e-09j,\n",
       "           0.0000000e+00+0.0000000e+00j],\n",
       "         [-7.1439974e-09-3.3070933e-09j,  0.0000000e+00+6.8412485e-09j,\n",
       "           1.4287995e-08-9.5050003e-09j, -7.1439974e-09-6.5384995e-09j,\n",
       "          -2.3792996e-08-7.8779987e-09j]],\n",
       " \n",
       "        [[ 1.1614500e-08+2.1480869e-08j, -9.2439478e-10-1.8808342e-08j,\n",
       "           2.6397275e-08-8.0511313e-09j,  2.7981415e-08-1.6564460e-08j,\n",
       "           0.0000000e+00+0.0000000e+00j],\n",
       "         [ 4.1470027e-09-1.9918247e-08j, -7.7494953e-09+9.5806874e-09j,\n",
       "           0.0000000e+00-1.3076999e-08j,  1.2109957e-09+3.2571617e-08j,\n",
       "          -1.0110498e-08+1.6951747e-08j],\n",
       "         [ 1.1614500e-08-1.0295013e-08j, -1.6102263e-08+2.5077789e-08j,\n",
       "          -3.2204525e-08+5.0155577e-08j,  1.8346144e-08-3.5633683e-09j,\n",
       "           0.0000000e+00+0.0000000e+00j],\n",
       "         [-7.1439974e-09-3.3070933e-09j,  0.0000000e+00+6.8412485e-09j,\n",
       "           1.4287995e-08-9.5050003e-09j, -7.1439974e-09-6.5384995e-09j,\n",
       "          -2.3792996e-08-7.8779987e-09j]],\n",
       " \n",
       "        [[ 1.1614500e-08+2.1480869e-08j, -9.2439478e-10-1.8808342e-08j,\n",
       "           2.6397275e-08-8.0511313e-09j,  2.7981415e-08-1.6564460e-08j,\n",
       "           0.0000000e+00+0.0000000e+00j],\n",
       "         [ 4.1470027e-09-1.9918247e-08j, -7.7494953e-09+9.5806874e-09j,\n",
       "           0.0000000e+00-1.3076999e-08j,  1.2109957e-09+3.2571617e-08j,\n",
       "          -1.0110498e-08+1.6951747e-08j],\n",
       "         [ 1.1614500e-08-1.0295013e-08j, -1.6102263e-08+2.5077789e-08j,\n",
       "          -3.2204525e-08+5.0155577e-08j,  1.8346144e-08-3.5633683e-09j,\n",
       "           0.0000000e+00+0.0000000e+00j],\n",
       "         [-7.1439974e-09-3.3070933e-09j,  0.0000000e+00+6.8412485e-09j,\n",
       "           1.4287995e-08-9.5050003e-09j, -7.1439974e-09-6.5384995e-09j,\n",
       "          -2.3792996e-08-7.8779987e-09j]],\n",
       " \n",
       "        [[ 1.1614500e-08+2.1480869e-08j, -9.2439478e-10-1.8808342e-08j,\n",
       "           2.6397275e-08-8.0511313e-09j,  2.7981415e-08-1.6564460e-08j,\n",
       "           0.0000000e+00+0.0000000e+00j],\n",
       "         [ 4.1470027e-09-1.9918247e-08j, -7.7494953e-09+9.5806874e-09j,\n",
       "           0.0000000e+00-1.3076999e-08j,  1.2109957e-09+3.2571617e-08j,\n",
       "          -1.0110498e-08+1.6951747e-08j],\n",
       "         [ 1.1614500e-08-1.0295013e-08j, -1.6102263e-08+2.5077789e-08j,\n",
       "          -3.2204525e-08+5.0155577e-08j,  1.8346144e-08-3.5633683e-09j,\n",
       "           0.0000000e+00+0.0000000e+00j],\n",
       "         [-7.1439974e-09-3.3070933e-09j,  0.0000000e+00+6.8412485e-09j,\n",
       "           1.4287995e-08-9.5050003e-09j, -7.1439974e-09-6.5384995e-09j,\n",
       "          -2.3792996e-08-7.8779987e-09j]]], dtype=complex64)>)"
      ]
     },
     "execution_count": 4,
     "metadata": {},
     "output_type": "execute_result"
    }
   ],
   "source": [
    "def f(weights):\n",
    "    c = tc.Circuit(nwires)\n",
    "    c = tc.templates.blocks.example_block(c, weights, nlayers=nlayers)\n",
    "    loss = c.expectation([tc.gates.z(), [2]])\n",
    "    loss = tc.backend.real(loss)\n",
    "    return loss\n",
    "\n",
    "\n",
    "f_vg = tc.backend.jit(tc.backend.vvag(f, argnums=0, vectorized_argnums=0))\n",
    "f_vg(tc.backend.ones([batch, 2 * nlayers, nwires]))"
   ]
  },
  {
   "cell_type": "markdown",
   "id": "cc964c68",
   "metadata": {},
   "source": [
    "## vmap the Quantum Noise\n",
    "\n",
    "Use case: parallel Monte Carlo noise simulation.\n",
    "\n",
    "For applications that combine vmapped Monte Carlo noise simulation and quantum machine learning task, please see [noisy QML script](https://github.com/tencent-quantum-lab/tensorcircuit/blob/master/examples/noisy_qml.py)."
   ]
  },
  {
   "cell_type": "markdown",
   "id": "1d4640f6",
   "metadata": {},
   "source": [
    "### Minimal Example"
   ]
  },
  {
   "cell_type": "code",
   "execution_count": 5,
   "id": "c375d869",
   "metadata": {},
   "outputs": [
    {
     "data": {
      "text/plain": [
       "(<tf.Tensor: shape=(6,), dtype=float32, numpy=\n",
       " array([ 0.34873545, -0.34873545, -0.34873545, -0.34873545, -0.34873545,\n",
       "         0.34873545], dtype=float32)>,\n",
       " <tf.Tensor: shape=(4, 5), dtype=complex64, numpy=\n",
       " array([[-8.8614023e-01-1.7026657e-08j,  5.7763958e-01+2.3834804e-01j,\n",
       "          5.7763910e-01+2.3834780e-01j, -8.8614047e-01+1.2538894e-07j,\n",
       "          0.0000000e+00+0.0000000e+00j],\n",
       "        [ 0.0000000e+00+6.9313288e-01j,  3.6122650e-01-1.1496974e-02j,\n",
       "         -5.2079970e-01-1.7869800e-01j,  3.6122644e-01-1.1496985e-02j,\n",
       "         -2.9802322e-08+6.9313288e-01j],\n",
       "        [-5.9604645e-08-1.0189922e+00j, -3.0850098e-01-1.4861794e-07j,\n",
       "         -3.0850050e-01-2.2304604e-08j,  5.9604645e-08-1.0189921e+00j,\n",
       "          0.0000000e+00+0.0000000e+00j],\n",
       "        [ 0.0000000e+00+3.1868588e-02j, -8.9406967e-08+2.5656950e-01j,\n",
       "         -2.9802322e-08-1.9999983e+00j, -2.9802322e-08+2.5656945e-01j,\n",
       "         -1.1920929e-07+3.1868652e-02j]], dtype=complex64)>)"
      ]
     },
     "execution_count": 5,
     "metadata": {},
     "output_type": "execute_result"
    }
   ],
   "source": [
    "def f(weights, status):\n",
    "    c = tc.Circuit(nwires)\n",
    "    c = tc.templates.blocks.example_block(c, weights, nlayers=nlayers)\n",
    "    for i in range(nwires):\n",
    "        c.depolarizing(i, px=0.2, py=0.2, pz=0.2, status=status[i])\n",
    "    loss = c.expectation([tc.gates.x(), [2]])\n",
    "    loss = tc.backend.real(loss)\n",
    "    return loss\n",
    "\n",
    "\n",
    "f_vg = tc.backend.jit(tc.backend.vvag(f, argnums=0, vectorized_argnums=1))\n",
    "\n",
    "\n",
    "def g(weights):\n",
    "    status = tc.backend.implicit_randu(shape=[batch, nwires])\n",
    "    return f_vg(weights, status)\n",
    "\n",
    "\n",
    "g(tc.backend.ones([2 * nlayers, nwires]))"
   ]
  },
  {
   "cell_type": "markdown",
   "id": "f2f659f9",
   "metadata": {},
   "source": [
    "## vmap the Circuit Structure\n",
    "\n",
    "Use case: differentiable quantum architecture search (DQAS). \n",
    "\n",
    "For more detail on DQAS application, see [DQAS tutorial](../tutorials/dqas.ipynb)."
   ]
  },
  {
   "cell_type": "markdown",
   "id": "445e5538",
   "metadata": {},
   "source": [
    "### Minimal Example"
   ]
  },
  {
   "cell_type": "code",
   "execution_count": 6,
   "id": "3d821d37",
   "metadata": {},
   "outputs": [
    {
     "data": {
      "text/plain": [
       "(<tf.Tensor: shape=(6,), dtype=float32, numpy=\n",
       " array([2.4917054e+08, 2.4917054e+08, 2.4917054e+08, 2.4917054e+08,\n",
       "        2.4917054e+08, 2.4917054e+08], dtype=float32)>,\n",
       " <tf.Tensor: shape=(5, 2, 3), dtype=complex64, numpy=\n",
       " array([[[-4.8252989e+08+2.3603376e+07j, -6.4132224e+08+1.1064736e+08j,\n",
       "          -4.5701562e+08-7.4987272e+07j],\n",
       "         [-5.4175347e+08+5.2096408e+07j, -5.5254317e+08-4.6495180e+07j,\n",
       "          -4.5219101e+08-5.6013205e+06j]],\n",
       " \n",
       "        [[-7.1430163e+08-1.2090212e+08j, -6.2410163e+08-4.1363908e+07j,\n",
       "          -3.9189485e+08+4.0016840e+06j],\n",
       "         [-5.8365677e+08+9.4236816e+07j, -5.7693280e+08-9.7727496e+07j,\n",
       "          -3.9540646e+08+3.4906362e+06j]],\n",
       " \n",
       "        [[-5.9637555e+08+8.9477632e+07j, -7.6615610e+08+1.1949610e+08j,\n",
       "          -3.8039136e+08-4.7556400e+07j],\n",
       "         [-1.1637092e+09-4.0144461e+08j, -1.1735478e+09+4.5104198e+08j,\n",
       "          -1.5947418e+08+1.5322706e+07j]],\n",
       " \n",
       "        [[-7.1430170e+08-1.2090210e+08j, -6.2410170e+08-4.1363864e+07j,\n",
       "          -3.9189485e+08+4.0016840e+06j],\n",
       "         [-5.8365658e+08+9.4236840e+07j, -5.7693261e+08-9.7727496e+07j,\n",
       "          -3.9540637e+08+3.4906552e+06j]],\n",
       " \n",
       "        [[-4.8253002e+08+2.3603400e+07j, -6.4132237e+08+1.1064734e+08j,\n",
       "          -4.5701565e+08-7.4987248e+07j],\n",
       "         [-5.4175334e+08+5.2096460e+07j, -5.5254304e+08-4.6495116e+07j,\n",
       "          -4.5219091e+08-5.6013120e+06j]]], dtype=complex64)>)"
      ]
     },
     "execution_count": 6,
     "metadata": {},
     "output_type": "execute_result"
    }
   ],
   "source": [
    "eye = tc.gates.i().tensor\n",
    "x = tc.gates.x().tensor\n",
    "y = tc.gates.y().tensor\n",
    "z = tc.gates.z().tensor\n",
    "\n",
    "\n",
    "def f(params, structures):\n",
    "    c = tc.Circuit(nwires)\n",
    "    for i in range(nwires):\n",
    "        c.H(i)\n",
    "    for j in range(nlayers):\n",
    "        for i in range(nwires - 1):\n",
    "            c.cz(i, i + 1)\n",
    "        for i in range(nwires):\n",
    "            c.unitary(\n",
    "                i,\n",
    "                unitary=structures[i, j, 0]\n",
    "                * (\n",
    "                    tc.backend.cos(params[i, j, 0]) * eye\n",
    "                    + tc.backend.sin(params[i, j, 0]) * x\n",
    "                )\n",
    "                + structures[i, j, 1]\n",
    "                * (\n",
    "                    tc.backend.cos(params[i, j, 1]) * eye\n",
    "                    + tc.backend.sin(params[i, j, 1]) * y\n",
    "                )\n",
    "                + structures[i, j, 2]\n",
    "                * (\n",
    "                    tc.backend.cos(params[i, j, 2]) * eye\n",
    "                    + tc.backend.sin(params[i, j, 2]) * z\n",
    "                ),\n",
    "            )\n",
    "    loss = c.expectation([tc.gates.z(), (2,)])\n",
    "    return tc.backend.real(loss)\n",
    "\n",
    "\n",
    "structures = tc.backend.ones([batch, nwires, nlayers, 3])\n",
    "params = tc.backend.ones([nwires, nlayers, 3])\n",
    "f_vg = tc.backend.jit(tc.backend.vvag(f, argnums=0, vectorized_argnums=1))\n",
    "f_vg(params, structures)"
   ]
  },
  {
   "cell_type": "markdown",
   "id": "313d65f4",
   "metadata": {},
   "source": [
    "## vmap the Circuit Measurements\n",
    "\n",
    "Use case: accelerating evaluation of Pauli string sum by parallel the parameterized measurement.\n",
    "\n",
    "For applications on evaluation of parameterized measurements via vmap on large-scale systems, see [large-scale vqe example script](https://github.com/tencent-quantum-lab/tensorcircuit/blob/master/examples/vqe_extra.py)."
   ]
  },
  {
   "cell_type": "markdown",
   "id": "3b307196",
   "metadata": {},
   "source": [
    "### Minimal Example"
   ]
  },
  {
   "cell_type": "code",
   "execution_count": 7,
   "id": "c43c8aa1",
   "metadata": {},
   "outputs": [
    {
     "name": "stdout",
     "output_type": "stream",
     "text": [
      "WARNING:tensorflow:5 out of the last 5 calls to <function TensorFlowBackend.vectorized_value_and_grad.<locals>.wrapper at 0x7fe6cbed1af0> triggered tf.function retracing. Tracing is expensive and the excessive number of tracings could be due to (1) creating @tf.function repeatedly in a loop, (2) passing tensors with different shapes, (3) passing Python objects instead of tensors. For (1), please define your @tf.function outside of the loop. For (2), @tf.function has experimental_relax_shapes=True option that relaxes argument shapes that can avoid unnecessary retracing. For (3), please refer to https://www.tensorflow.org/guide/function#controlling_retracing and https://www.tensorflow.org/api_docs/python/tf/function for  more details.\n"
     ]
    },
    {
     "data": {
      "text/plain": [
       "(<tf.Tensor: shape=(5,), dtype=float32, numpy=\n",
       " array([-0.3118263 ,  0.00371493,  0.3487355 ,  0.00371514, -0.31182614],\n",
       "       dtype=float32)>,\n",
       " <tf.Tensor: shape=(4, 5), dtype=complex64, numpy=\n",
       " array([[ 1.6707865e+00-0.40178323j, -1.1992662e+00-0.23834792j,\n",
       "         -1.1992660e+00-0.2383478j ,  1.6707866e+00-0.40178335j,\n",
       "          0.0000000e+00+0.j        ],\n",
       "        [-1.8267021e-01-0.6483071j ,  7.7729575e-02+0.58401704j,\n",
       "         -1.0082662e-01-0.52953976j,  7.7729806e-02+0.58401704j,\n",
       "         -1.8267024e-01-0.6483072j ],\n",
       "        [ 1.6707866e+00+0.19420199j, -1.1992658e+00+0.50487465j,\n",
       "         -1.1992657e+00+0.504875j  ,  1.6707867e+00+0.19420168j,\n",
       "          0.0000000e+00+0.j        ],\n",
       "        [ 7.4505806e-09+0.99540246j,  1.4901161e-08+0.7925009j ,\n",
       "         -7.4505806e-09+0.71156096j, -7.4505806e-09+0.7925008j ,\n",
       "          2.2351742e-08+0.9954027j ]], dtype=complex64)>)"
      ]
     },
     "execution_count": 7,
     "metadata": {},
     "output_type": "execute_result"
    }
   ],
   "source": [
    "def f(params, structures):\n",
    "    c = tc.Circuit(nwires)\n",
    "    c = tc.templates.blocks.example_block(c, params, nlayers=nlayers)\n",
    "    loss = tc.templates.measurements.parameterized_measurements(\n",
    "        c, structures, onehot=True\n",
    "    )\n",
    "    return loss\n",
    "\n",
    "\n",
    "# measure X0 to X3\n",
    "structures = tc.backend.eye(nwires)\n",
    "f_vvag = tc.backend.jit(tc.backend.vvag(f, vectorized_argnums=1, argnums=0))\n",
    "f_vvag(tc.backend.ones([2 * nlayers, nwires]), structures)"
   ]
  }
 ],
 "metadata": {
  "kernelspec": {
   "display_name": "Python 3 (ipykernel)",
   "language": "python",
   "name": "python3"
  },
  "language_info": {
   "codemirror_mode": {
    "name": "ipython",
    "version": 3
   },
   "file_extension": ".py",
   "mimetype": "text/x-python",
   "name": "python",
   "nbconvert_exporter": "python",
   "pygments_lexer": "ipython3",
   "version": "3.8.0"
  }
 },
 "nbformat": 4,
 "nbformat_minor": 5
}