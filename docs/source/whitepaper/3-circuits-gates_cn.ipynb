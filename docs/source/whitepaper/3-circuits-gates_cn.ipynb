{
 "cells": [
  {
   "cell_type": "markdown",
   "id": "578a4cb9",
   "metadata": {},
   "source": [
    "# 电路和门"
   ]
  },
  {
   "cell_type": "markdown",
   "id": "2f201125",
   "metadata": {},
   "source": [
    "## 概述\n",
    "\n",
    "在 TensorCircuit 中，$n$ 量子比特上的量子电路——通过蒙特卡洛轨迹方法支持无噪声和有噪声的模拟——由“tc.Circuit(n)”API 创建。\n",
    "在这里，我们展示了如何创建基本电路，对它们应用门，并计算各种输出。"
   ]
  },
  {
   "cell_type": "markdown",
   "id": "c4eb555a",
   "metadata": {},
   "source": [
    "## 设置"
   ]
  },
  {
   "cell_type": "code",
   "execution_count": 1,
   "id": "761f6a48",
   "metadata": {},
   "outputs": [],
   "source": [
    "import inspect\n",
    "import numpy as np\n",
    "import tensorcircuit as tc\n",
    "\n",
    "K = tc.set_backend(\"tensorflow\")"
   ]
  },
  {
   "cell_type": "markdown",
   "id": "b1be293e",
   "metadata": {},
   "source": [
    "在 TensorCircuit 中，默认的运行时数据类型是 complex64，但如果需要更高的精度，可以按照如下设置"
   ]
  },
  {
   "cell_type": "code",
   "execution_count": 2,
   "id": "e51ef263",
   "metadata": {},
   "outputs": [
    {
     "data": {
      "text/plain": [
       "('complex128', 'float64')"
      ]
     },
     "execution_count": 2,
     "metadata": {},
     "output_type": "execute_result"
    }
   ],
   "source": [
    "tc.set_dtype(\"complex128\")"
   ]
  },
  {
   "cell_type": "markdown",
   "id": "50ff32b6",
   "metadata": {},
   "source": [
    "## 基本电路和输出\n",
    "\n",
    "量子电路按照可以如下构造。"
   ]
  },
  {
   "cell_type": "code",
   "execution_count": 3,
   "id": "0f787d90",
   "metadata": {},
   "outputs": [],
   "source": [
    "c = tc.Circuit(2)\n",
    "c.h(0)\n",
    "c.cnot(0, 1)\n",
    "c.rx(1, theta=0.2)"
   ]
  },
  {
   "cell_type": "markdown",
   "id": "ef28386a",
   "metadata": {},
   "source": [
    "**输出：量子态**\n",
    "\n",
    "由此，可以计算各种输出。\n",
    "\n",
    "完整的波函数可以通过\n"
   ]
  },
  {
   "cell_type": "code",
   "execution_count": 4,
   "id": "d6d889ef",
   "metadata": {},
   "outputs": [
    {
     "data": {
      "text/plain": [
       "<tf.Tensor: shape=(4,), dtype=complex128, numpy=\n",
       "array([0.70357418+0.j        , 0.        -0.07059289j,\n",
       "       0.        -0.07059289j, 0.70357418+0.j        ])>"
      ]
     },
     "execution_count": 4,
     "metadata": {},
     "output_type": "execute_result"
    }
   ],
   "source": [
    "c.state()"
   ]
  },
  {
   "cell_type": "markdown",
   "id": "0ffea92d",
   "metadata": {},
   "source": [
    "全波函数也可用于生成部分比特上的约化密度矩阵\n"
   ]
  },
  {
   "cell_type": "code",
   "execution_count": 5,
   "id": "e83bf578",
   "metadata": {},
   "outputs": [
    {
     "data": {
      "text/plain": [
       "<tf.Tensor: shape=(2, 2), dtype=complex128, numpy=\n",
       "array([[0.5+0.j, 0. +0.j],\n",
       "       [0. +0.j, 0.5+0.j]])>"
      ]
     },
     "execution_count": 5,
     "metadata": {},
     "output_type": "execute_result"
    }
   ],
   "source": [
    "# 量子位 1 的约化密度矩阵\n",
    "s = c.state()\n",
    "tc.quantum.reduced_density_matrix(s, cut=[0])  # cut：要追踪的量子位索引列表"
   ]
  },
  {
   "cell_type": "markdown",
   "id": "bb8ea75d",
   "metadata": {},
   "source": [
    "通过将相应的位串值传递给 ``amplitude(振幅)`` 函数来计算单个基向量的振幅。例如，$\\vert{10}\\rangle$ 基向量的振幅由下式计算"
   ]
  },
  {
   "cell_type": "code",
   "execution_count": 6,
   "id": "ed144734",
   "metadata": {},
   "outputs": [
    {
     "data": {
      "text/plain": [
       "<tf.Tensor: shape=(), dtype=complex128, numpy=-0.0705928857402556j>"
      ]
     },
     "execution_count": 6,
     "metadata": {},
     "output_type": "execute_result"
    }
   ],
   "source": [
    "c.amplitude(\"10\")"
   ]
  },
  {
   "cell_type": "markdown",
   "id": "de0ca800",
   "metadata": {},
   "source": [
    "也可以输出对应整个量子电路的幺正矩阵。"
   ]
  },
  {
   "cell_type": "code",
   "execution_count": 7,
   "id": "aafe76f3",
   "metadata": {},
   "outputs": [
    {
     "data": {
      "text/plain": [
       "<tf.Tensor: shape=(4, 4), dtype=complex128, numpy=\n",
       "array([[ 0.70357418+0.j        ,  0.        -0.07059289j,\n",
       "         0.70357418+0.j        ,  0.        -0.07059289j],\n",
       "       [ 0.        -0.07059289j,  0.70357418+0.j        ,\n",
       "         0.        -0.07059289j,  0.70357418+0.j        ],\n",
       "       [ 0.        -0.07059289j,  0.70357418+0.j        ,\n",
       "         0.        +0.07059289j, -0.70357418+0.j        ],\n",
       "       [ 0.70357418+0.j        ,  0.        -0.07059289j,\n",
       "        -0.70357418+0.j        ,  0.        +0.07059289j]])>"
      ]
     },
     "execution_count": 7,
     "metadata": {},
     "output_type": "execute_result"
    }
   ],
   "source": [
    "c.matrix()"
   ]
  },
  {
   "cell_type": "markdown",
   "id": "e0534fdc",
   "metadata": {},
   "source": [
    "**输出：测量**\n",
    "\n",
    "可以使用以下 API 生成与所有 qubits 上的 $Z$-measurements 相对应的随机样本，\n",
    "该 API 将输出一个 $(\\text{bitstring}, \\text{probability})$ 元组，包括与测量结果对应的二进制字符串\n",
    "对所有量子比特的 Z 测量以及获得该结果的相关概率。可以使用“measure”命令对量子比特子集执行 Z 测量"
   ]
  },
  {
   "cell_type": "code",
   "execution_count": 8,
   "id": "cd64d8b8",
   "metadata": {},
   "outputs": [
    {
     "data": {
      "text/plain": [
       "(<tf.Tensor: shape=(2,), dtype=float64, numpy=array([1., 1.])>,\n",
       " <tf.Tensor: shape=(), dtype=float64, numpy=0.4950166615971341>)"
      ]
     },
     "execution_count": 8,
     "metadata": {},
     "output_type": "execute_result"
    }
   ],
   "source": [
    "c.sample()"
   ]
  },
  {
   "cell_type": "code",
   "execution_count": 9,
   "id": "224d9bdf",
   "metadata": {},
   "outputs": [
    {
     "data": {
      "text/plain": [
       "(<tf.Tensor: shape=(1,), dtype=float64, numpy=array([1.])>,\n",
       " <tf.Tensor: shape=(), dtype=float64, numpy=0.5000000171142709>)"
      ]
     },
     "execution_count": 9,
     "metadata": {},
     "output_type": "execute_result"
    }
   ],
   "source": [
    "c.measure(0, with_prob=True)"
   ]
  },
  {
   "cell_type": "code",
   "execution_count": 10,
   "id": "3870a23a",
   "metadata": {},
   "outputs": [
    {
     "data": {
      "text/plain": [
       "(<tf.Tensor: shape=(2,), dtype=float64, numpy=array([1., 1.])>,\n",
       " <tf.Tensor: shape=(), dtype=float64, numpy=0.4950166615971341>)"
      ]
     },
     "execution_count": 10,
     "metadata": {},
     "output_type": "execute_result"
    }
   ],
   "source": [
    "c.measure(0, 1, with_prob=True)"
   ]
  },
  {
   "cell_type": "markdown",
   "id": "b349ce80",
   "metadata": {},
   "source": [
    "**输出：期望**\n",
    "    \n",
    "期望值，例如 $\\langle X_0 \\rangle$、$\\langle X_1 + Z_1\\rangle$ 或 $\\langle Z_0 Z_1\\rangle$ 可以通过电路对象的 ${\\sf expectation}$ 方法计算"
   ]
  },
  {
   "cell_type": "code",
   "execution_count": 11,
   "id": "e928bd7c",
   "metadata": {},
   "outputs": [
    {
     "name": "stdout",
     "output_type": "stream",
     "text": [
      "tf.Tensor(0j, shape=(), dtype=complex128)\n",
      "tf.Tensor(0j, shape=(), dtype=complex128)\n",
      "tf.Tensor((0.9800665437029109+0j), shape=(), dtype=complex128)\n"
     ]
    }
   ],
   "source": [
    "print(c.expectation([tc.gates.x(), [0]]))  # <X0>\n",
    "print(c.expectation([tc.gates.x() + tc.gates.z(), [1]]))  # <X1 + Z1>\n",
    "print(c.expectation([tc.gates.z(), [0]], [tc.gates.z(), [1]]))  # <Z0 Z1>"
   ]
  },
  {
   "cell_type": "code",
   "execution_count": 12,
   "id": "ed8dfb67",
   "metadata": {},
   "outputs": [
    {
     "data": {
      "text/plain": [
       "<tf.Tensor: shape=(), dtype=complex128, numpy=0j>"
      ]
     },
     "execution_count": 12,
     "metadata": {},
     "output_type": "execute_result"
    }
   ],
   "source": [
    "# 用户定义运算符\n",
    "\n",
    "c.expectation([np.array([[3, 2], [2, -3]]), [0]])"
   ]
  },
  {
   "cell_type": "markdown",
   "id": "99a3ade6",
   "metadata": {},
   "source": [
    "而泡利字符串的期望，例如 $\\langle Z_0 X_1\\rangle$ 可以使用上面的 c.expectation 计算，TensorCircuit 提供了另一种计算此类表达式的方法，\n",
    "这对于更长的 Pauli 字符串可能更方便，更长的 Pauli 字符串可以类似地通过提供与 $X,Y,Z$ 运算符作用的量子比特相对应的索引列表计算得到。"
   ]
  },
  {
   "cell_type": "code",
   "execution_count": 13,
   "id": "85971e20",
   "metadata": {},
   "outputs": [
    {
     "data": {
      "text/plain": [
       "<tf.Tensor: shape=(), dtype=complex128, numpy=0j>"
      ]
     },
     "execution_count": 13,
     "metadata": {},
     "output_type": "execute_result"
    }
   ],
   "source": [
    "c.expectation_ps(x=[1], z=[0])"
   ]
  },
  {
   "cell_type": "markdown",
   "id": "898b50b7",
   "metadata": {},
   "source": [
    "## 内置门"
   ]
  },
  {
   "cell_type": "markdown",
   "id": "3ad34c35",
   "metadata": {},
   "source": [
    "TensorCircuit 为各种常见的量子门提供支持。完整列表如下。"
   ]
  },
  {
   "cell_type": "code",
   "execution_count": 14,
   "id": "2d36bfff",
   "metadata": {},
   "outputs": [
    {
     "name": "stdout",
     "output_type": "stream",
     "text": [
      "i\n",
      "[[1.+0.j 0.+0.j]\n",
      " [0.+0.j 1.+0.j]]\n",
      "x\n",
      "[[0.+0.j 1.+0.j]\n",
      " [1.+0.j 0.+0.j]]\n",
      "y\n",
      "[[0.+0.j 0.-1.j]\n",
      " [0.+1.j 0.+0.j]]\n",
      "z\n",
      "[[ 1.+0.j  0.+0.j]\n",
      " [ 0.+0.j -1.+0.j]]\n",
      "h\n",
      "[[ 0.70710678+0.j  0.70710678+0.j]\n",
      " [ 0.70710678+0.j -0.70710678+0.j]]\n",
      "t\n",
      "[[1.        +0.j         0.        +0.j        ]\n",
      " [0.        +0.j         0.70710678+0.70710678j]]\n",
      "s\n",
      "[[1.+0.j 0.+0.j]\n",
      " [0.+0.j 0.+1.j]]\n",
      "td\n",
      "[[1.        +0.j         0.        +0.j        ]\n",
      " [0.        +0.j         0.70710677-0.70710677j]]\n",
      "sd\n",
      "[[1.+0.j 0.+0.j]\n",
      " [0.+0.j 0.-1.j]]\n",
      "wroot\n",
      "[[ 0.70710678+0.j  -0.5       -0.5j]\n",
      " [ 0.5       -0.5j  0.70710678+0.j ]]\n",
      "cnot\n",
      "[[1.+0.j 0.+0.j 0.+0.j 0.+0.j]\n",
      " [0.+0.j 1.+0.j 0.+0.j 0.+0.j]\n",
      " [0.+0.j 0.+0.j 0.+0.j 1.+0.j]\n",
      " [0.+0.j 0.+0.j 1.+0.j 0.+0.j]]\n",
      "cz\n",
      "[[ 1.+0.j  0.+0.j  0.+0.j  0.+0.j]\n",
      " [ 0.+0.j  1.+0.j  0.+0.j  0.+0.j]\n",
      " [ 0.+0.j  0.+0.j  1.+0.j  0.+0.j]\n",
      " [ 0.+0.j  0.+0.j  0.+0.j -1.+0.j]]\n",
      "swap\n",
      "[[1.+0.j 0.+0.j 0.+0.j 0.+0.j]\n",
      " [0.+0.j 0.+0.j 1.+0.j 0.+0.j]\n",
      " [0.+0.j 1.+0.j 0.+0.j 0.+0.j]\n",
      " [0.+0.j 0.+0.j 0.+0.j 1.+0.j]]\n",
      "cy\n",
      "[[1.+0.j 0.+0.j 0.+0.j 0.+0.j]\n",
      " [0.+0.j 1.+0.j 0.+0.j 0.+0.j]\n",
      " [0.+0.j 0.+0.j 0.+0.j 0.-1.j]\n",
      " [0.+0.j 0.+0.j 0.+1.j 0.+0.j]]\n",
      "iswap\n",
      "[[1.+0.j 0.+0.j 0.+0.j 0.+0.j]\n",
      " [0.+0.j 0.+0.j 0.+1.j 0.+0.j]\n",
      " [0.+0.j 0.+1.j 0.+0.j 0.+0.j]\n",
      " [0.+0.j 0.+0.j 0.+0.j 1.+0.j]]\n",
      "ox\n",
      "[[0.+0.j 1.+0.j 0.+0.j 0.+0.j]\n",
      " [1.+0.j 0.+0.j 0.+0.j 0.+0.j]\n",
      " [0.+0.j 0.+0.j 1.+0.j 0.+0.j]\n",
      " [0.+0.j 0.+0.j 0.+0.j 1.+0.j]]\n",
      "oy\n",
      "[[0.+0.j 0.-1.j 0.+0.j 0.+0.j]\n",
      " [0.+1.j 0.+0.j 0.+0.j 0.+0.j]\n",
      " [0.+0.j 0.+0.j 1.+0.j 0.+0.j]\n",
      " [0.+0.j 0.+0.j 0.+0.j 1.+0.j]]\n",
      "oz\n",
      "[[ 1.+0.j  0.+0.j  0.+0.j  0.+0.j]\n",
      " [ 0.+0.j -1.+0.j  0.+0.j  0.+0.j]\n",
      " [ 0.+0.j  0.+0.j  1.+0.j  0.+0.j]\n",
      " [ 0.+0.j  0.+0.j  0.+0.j  1.+0.j]]\n",
      "toffoli\n",
      "[[1.+0.j 0.+0.j 0.+0.j 0.+0.j 0.+0.j 0.+0.j 0.+0.j 0.+0.j]\n",
      " [0.+0.j 1.+0.j 0.+0.j 0.+0.j 0.+0.j 0.+0.j 0.+0.j 0.+0.j]\n",
      " [0.+0.j 0.+0.j 1.+0.j 0.+0.j 0.+0.j 0.+0.j 0.+0.j 0.+0.j]\n",
      " [0.+0.j 0.+0.j 0.+0.j 1.+0.j 0.+0.j 0.+0.j 0.+0.j 0.+0.j]\n",
      " [0.+0.j 0.+0.j 0.+0.j 0.+0.j 1.+0.j 0.+0.j 0.+0.j 0.+0.j]\n",
      " [0.+0.j 0.+0.j 0.+0.j 0.+0.j 0.+0.j 1.+0.j 0.+0.j 0.+0.j]\n",
      " [0.+0.j 0.+0.j 0.+0.j 0.+0.j 0.+0.j 0.+0.j 0.+0.j 1.+0.j]\n",
      " [0.+0.j 0.+0.j 0.+0.j 0.+0.j 0.+0.j 0.+0.j 1.+0.j 0.+0.j]]\n",
      "fredkin\n",
      "[[1.+0.j 0.+0.j 0.+0.j 0.+0.j 0.+0.j 0.+0.j 0.+0.j 0.+0.j]\n",
      " [0.+0.j 1.+0.j 0.+0.j 0.+0.j 0.+0.j 0.+0.j 0.+0.j 0.+0.j]\n",
      " [0.+0.j 0.+0.j 1.+0.j 0.+0.j 0.+0.j 0.+0.j 0.+0.j 0.+0.j]\n",
      " [0.+0.j 0.+0.j 0.+0.j 1.+0.j 0.+0.j 0.+0.j 0.+0.j 0.+0.j]\n",
      " [0.+0.j 0.+0.j 0.+0.j 0.+0.j 1.+0.j 0.+0.j 0.+0.j 0.+0.j]\n",
      " [0.+0.j 0.+0.j 0.+0.j 0.+0.j 0.+0.j 0.+0.j 1.+0.j 0.+0.j]\n",
      " [0.+0.j 0.+0.j 0.+0.j 0.+0.j 0.+0.j 1.+0.j 0.+0.j 0.+0.j]\n",
      " [0.+0.j 0.+0.j 0.+0.j 0.+0.j 0.+0.j 0.+0.j 0.+0.j 1.+0.j]]\n"
     ]
    }
   ],
   "source": [
    "for g in tc.Circuit.sgates:\n",
    "    gf = getattr(tc.gates, g)\n",
    "    print(g)\n",
    "    print(tc.gates.matrix_for_gate(gf()))"
   ]
  },
  {
   "cell_type": "code",
   "execution_count": 15,
   "id": "5cbabd45",
   "metadata": {},
   "outputs": [
    {
     "name": "stdout",
     "output_type": "stream",
     "text": [
      "r (theta: float = 0, alpha: float = 0, phi: float = 0) -> tensorcircuit.gates.Gate\n",
      "cr (theta: float = 0, alpha: float = 0, phi: float = 0) -> tensorcircuit.gates.Gate\n",
      "rx (theta: float = 0) -> tensorcircuit.gates.Gate\n",
      "ry (theta: float = 0) -> tensorcircuit.gates.Gate\n",
      "rz (theta: float = 0) -> tensorcircuit.gates.Gate\n",
      "crx (*args: Any, **kws: Any) -> Any\n",
      "cry (*args: Any, **kws: Any) -> Any\n",
      "crz (*args: Any, **kws: Any) -> Any\n",
      "orx (*args: Any, **kws: Any) -> Any\n",
      "ory (*args: Any, **kws: Any) -> Any\n",
      "orz (*args: Any, **kws: Any) -> Any\n",
      "any (unitary: Any, name: str = 'any') -> tensorcircuit.gates.Gate\n",
      "exp (unitary: Any, theta: float, name: str = 'none') -> tensorcircuit.gates.Gate\n",
      "exp1 (unitary: Any, theta: float, name: str = 'none') -> tensorcircuit.gates.Gate\n"
     ]
    }
   ],
   "source": [
    "for g in tc.Circuit.vgates:\n",
    "    print(g, inspect.signature(getattr(tc.gates, g).f))"
   ]
  },
  {
   "cell_type": "markdown",
   "id": "41cc322f",
   "metadata": {},
   "source": [
    "此外，我们有如下内置矩阵"
   ]
  },
  {
   "cell_type": "code",
   "execution_count": 16,
   "id": "9b968be1",
   "metadata": {},
   "outputs": [
    {
     "name": "stdout",
     "output_type": "stream",
     "text": [
      "_cnot_matrix :\n",
      " [[1. 0. 0. 0.]\n",
      " [0. 1. 0. 0.]\n",
      " [0. 0. 0. 1.]\n",
      " [0. 0. 1. 0.]]\n",
      "_cy_matrix :\n",
      " [[ 1.+0.j  0.+0.j  0.+0.j  0.+0.j]\n",
      " [ 0.+0.j  1.+0.j  0.+0.j  0.+0.j]\n",
      " [ 0.+0.j  0.+0.j  0.+0.j -0.-1.j]\n",
      " [ 0.+0.j  0.+0.j  0.+1.j  0.+0.j]]\n",
      "_cz_matrix :\n",
      " [[ 1.  0.  0.  0.]\n",
      " [ 0.  1.  0.  0.]\n",
      " [ 0.  0.  1.  0.]\n",
      " [ 0.  0.  0. -1.]]\n",
      "_fredkin_matrix :\n",
      " [[1. 0. 0. 0. 0. 0. 0. 0.]\n",
      " [0. 1. 0. 0. 0. 0. 0. 0.]\n",
      " [0. 0. 1. 0. 0. 0. 0. 0.]\n",
      " [0. 0. 0. 1. 0. 0. 0. 0.]\n",
      " [0. 0. 0. 0. 1. 0. 0. 0.]\n",
      " [0. 0. 0. 0. 0. 0. 1. 0.]\n",
      " [0. 0. 0. 0. 0. 1. 0. 0.]\n",
      " [0. 0. 0. 0. 0. 0. 0. 1.]]\n",
      "_h_matrix :\n",
      " [[ 0.70710678  0.70710678]\n",
      " [ 0.70710678 -0.70710678]]\n",
      "_i_matrix :\n",
      " [[1. 0.]\n",
      " [0. 1.]]\n",
      "_ii_matrix :\n",
      " [[1. 0. 0. 0.]\n",
      " [0. 1. 0. 0.]\n",
      " [0. 0. 1. 0.]\n",
      " [0. 0. 0. 1.]]\n",
      "_s_matrix :\n",
      " [[1.+0.j 0.+0.j]\n",
      " [0.+0.j 0.+1.j]]\n",
      "_swap_matrix :\n",
      " [[1. 0. 0. 0.]\n",
      " [0. 0. 1. 0.]\n",
      " [0. 1. 0. 0.]\n",
      " [0. 0. 0. 1.]]\n",
      "_t_matrix :\n",
      " [[1.        +0.j         0.        +0.j        ]\n",
      " [0.        +0.j         0.70710678+0.70710678j]]\n",
      "_toffoli_matrix :\n",
      " [[1. 0. 0. 0. 0. 0. 0. 0.]\n",
      " [0. 1. 0. 0. 0. 0. 0. 0.]\n",
      " [0. 0. 1. 0. 0. 0. 0. 0.]\n",
      " [0. 0. 0. 1. 0. 0. 0. 0.]\n",
      " [0. 0. 0. 0. 1. 0. 0. 0.]\n",
      " [0. 0. 0. 0. 0. 1. 0. 0.]\n",
      " [0. 0. 0. 0. 0. 0. 0. 1.]\n",
      " [0. 0. 0. 0. 0. 0. 1. 0.]]\n",
      "_wroot_matrix :\n",
      " [[ 0.70710678+0.j  -0.5       -0.5j]\n",
      " [ 0.5       -0.5j  0.70710678+0.j ]]\n",
      "_x_matrix :\n",
      " [[0. 1.]\n",
      " [1. 0.]]\n",
      "_xx_matrix :\n",
      " [[0. 0. 0. 1.]\n",
      " [0. 0. 1. 0.]\n",
      " [0. 1. 0. 0.]\n",
      " [1. 0. 0. 0.]]\n",
      "_y_matrix :\n",
      " [[ 0.+0.j -0.-1.j]\n",
      " [ 0.+1.j  0.+0.j]]\n",
      "_yy_matrix :\n",
      " [[ 0.+0.j  0.-0.j  0.-0.j -1.+0.j]\n",
      " [ 0.+0.j  0.+0.j  1.-0.j  0.-0.j]\n",
      " [ 0.+0.j  1.-0.j  0.+0.j  0.-0.j]\n",
      " [-1.+0.j  0.+0.j  0.+0.j  0.+0.j]]\n",
      "_z_matrix :\n",
      " [[ 1.  0.]\n",
      " [ 0. -1.]]\n",
      "_zz_matrix :\n",
      " [[ 1.  0.  0.  0.]\n",
      " [ 0. -1.  0. -0.]\n",
      " [ 0.  0. -1. -0.]\n",
      " [ 0. -0. -0.  1.]]\n"
     ]
    }
   ],
   "source": [
    "for name in dir(tc.gates):\n",
    "    if name.endswith(\"_matrix\"):\n",
    "        print(name, \":\\n\", getattr(tc.gates, name))"
   ]
  },
  {
   "cell_type": "markdown",
   "id": "76a975be",
   "metadata": {},
   "source": [
    "**任意幺正** 用户定义的幺正门可以通过将其矩阵元素指定为数组来实现。例如，S 量子门 $S = \\begin{pmatrix} 1 & 0 \\\\ 0 & i\\end{pmatrix}$ -- 也可以通过调用 ``c.s()``\n",
    "直接添加可以实现为"
   ]
  },
  {
   "cell_type": "code",
   "execution_count": 17,
   "id": "3e432d95",
   "metadata": {},
   "outputs": [],
   "source": [
    "c.unitary(0, unitary=np.array([[1, 0], [0, 1j]]), name=\"S\")\n",
    "\n",
    "# 可选的名称参数指定当电路输出到 \\LaTeX 时如何显示此门"
   ]
  },
  {
   "cell_type": "markdown",
   "id": "3ab55dce",
   "metadata": {},
   "source": [
    "**指数门。** 形式为 $e^{i\\theta G}$ 的门，其中矩阵 $G$ 满足 $G^2 = I$ 允许通过 ``exp1`` 命令快速实现，例如， 双比特门 $e^{i\\theta Z\\otimes Z}$ 作用于量子比特 $0$ 和 $1$"
   ]
  },
  {
   "cell_type": "code",
   "execution_count": 18,
   "id": "2e536a58",
   "metadata": {},
   "outputs": [],
   "source": [
    "c.exp1(0, 1, theta=0.2, unitary=tc.gates._zz_matrix)"
   ]
  },
  {
   "cell_type": "markdown",
   "id": "1b4f5918",
   "metadata": {},
   "source": [
    "一般指数门，其中 $G^2\\neq 1$ 可以通过 ``exp`` 命令实现："
   ]
  },
  {
   "cell_type": "code",
   "execution_count": 19,
   "id": "8b91ca7b",
   "metadata": {},
   "outputs": [],
   "source": [
    "c.exp(0, theta=0.2, unitary=np.array([[2, 0], [0, 1]]))"
   ]
  },
  {
   "cell_type": "markdown",
   "id": "d041f1f1",
   "metadata": {},
   "source": [
    "**非幺正门。**\n",
    "TensorCircuit 还支持非幺正门的应用，或者通过提供一个非幺正矩阵作为“c.unitary”的参数，或者通过提供一个复角 $\\theta$ 给指数门。"
   ]
  },
  {
   "cell_type": "code",
   "execution_count": 20,
   "id": "50d509e4",
   "metadata": {},
   "outputs": [],
   "source": [
    "c.unitary(0, unitary=np.array([[1, 2], [2, 3]]), name=\"non_unitary\")\n",
    "c.exp1(0, theta=0.2 + 1j, unitary=tc.gates._x_matrix)"
   ]
  },
  {
   "cell_type": "markdown",
   "id": "a8feb800",
   "metadata": {},
   "source": [
    "请注意，非幺正门将导致不再归一化的输出状态，因为归一化通常是不必要的并且需要额外的时间，这是可以避免的。"
   ]
  },
  {
   "cell_type": "markdown",
   "id": "4ce19540",
   "metadata": {},
   "source": [
    "## 指定输入状态和拼接电路"
   ]
  },
  {
   "cell_type": "markdown",
   "id": "e89da50d",
   "metadata": {},
   "source": [
    "默认情况下，量子电路应用于初始全零乘积状态。 可以通过将包含输入状态幅度的数组传递给“tc.Circuit”的可选“inputs”参数来设置任意初始状态。\n",
    "例如，最大纠缠态 $\\frac{\\vert{00}\\rangle+\\vert{11}\\rangle}{\\sqrt{2}}$ 可以如下输入。"
   ]
  },
  {
   "cell_type": "code",
   "execution_count": 21,
   "id": "5dce4e2b",
   "metadata": {},
   "outputs": [],
   "source": [
    "c1 = tc.Circuit(2, inputs=np.array([1, 0, 0, 1] / np.sqrt(2)))"
   ]
  },
  {
   "cell_type": "markdown",
   "id": "c7874007",
   "metadata": {},
   "source": [
    "作用于相同数量的量子比特的电路可以通过“c.append()”或“c.prepend()”命令组合在一起。\n",
    "通过上面定义的“c1”，我们可以创建一个新的电路“c2”，然后将它们组合在一起："
   ]
  },
  {
   "cell_type": "code",
   "execution_count": 22,
   "id": "dcb563f1",
   "metadata": {},
   "outputs": [
    {
     "data": {
      "text/plain": [
       "<tf.Tensor: shape=(4,), dtype=complex128, numpy=array([0.70710678+0.j, 0.70710678+0.j, 0.        +0.j, 0.        +0.j])>"
      ]
     },
     "execution_count": 22,
     "metadata": {},
     "output_type": "execute_result"
    }
   ],
   "source": [
    "c2 = tc.Circuit(2)\n",
    "c2.cnot(1, 0)\n",
    "\n",
    "c3 = c1.append(c2)\n",
    "c3.state()"
   ]
  },
  {
   "cell_type": "markdown",
   "id": "6b1ba8a8",
   "metadata": {},
   "source": [
    "## 电路变换和可视化"
   ]
  },
  {
   "cell_type": "markdown",
   "id": "4c5e26a9",
   "metadata": {},
   "source": [
    "``tc.Circuit`` 对象可以与 Qiskit ``QuantumCircuit`` 对象相互转换。"
   ]
  },
  {
   "cell_type": "code",
   "execution_count": 23,
   "id": "45f87a5e",
   "metadata": {},
   "outputs": [],
   "source": [
    "c = tc.Circuit(2)\n",
    "c.H(0)\n",
    "c.cnot(1, 0)\n",
    "cq = c.to_qiskit()"
   ]
  },
  {
   "cell_type": "code",
   "execution_count": 24,
   "id": "c1484dcd",
   "metadata": {},
   "outputs": [],
   "source": [
    "c1 = tc.Circuit.from_qiskit(cq)"
   ]
  },
  {
   "cell_type": "code",
   "execution_count": 25,
   "id": "398c1861",
   "metadata": {
    "scrolled": true
   },
   "outputs": [
    {
     "data": {
      "text/plain": [
       "[{'gatef': h,\n",
       "  'gate': Gate(\n",
       "      name: 'h',\n",
       "      tensor:\n",
       "          <tf.Tensor: shape=(2, 2), dtype=complex128, numpy=\n",
       "          array([[ 0.70710677+0.j,  0.70710677+0.j],\n",
       "                 [ 0.70710677+0.j, -0.70710677+0.j]])>,\n",
       "      edges: [\n",
       "          Edge('cnot'[3] -> 'h'[0] ),\n",
       "          Edge('h'[1] -> 'qb-1'[0] )\n",
       "      ]),\n",
       "  'index': (0,),\n",
       "  'name': 'h',\n",
       "  'split': None,\n",
       "  'mpo': False},\n",
       " {'gatef': cnot,\n",
       "  'gate': Gate(\n",
       "      name: 'cnot',\n",
       "      tensor:\n",
       "          <tf.Tensor: shape=(2, 2, 2, 2), dtype=complex128, numpy=\n",
       "          array([[[[1.+0.j, 0.+0.j],\n",
       "                   [0.+0.j, 0.+0.j]],\n",
       "          \n",
       "                  [[0.+0.j, 1.+0.j],\n",
       "                   [0.+0.j, 0.+0.j]]],\n",
       "          \n",
       "          \n",
       "                 [[[0.+0.j, 0.+0.j],\n",
       "                   [0.+0.j, 1.+0.j]],\n",
       "          \n",
       "                  [[0.+0.j, 0.+0.j],\n",
       "                   [1.+0.j, 0.+0.j]]]])>,\n",
       "      edges: [\n",
       "          Edge(Dangling Edge)[0],\n",
       "          Edge(Dangling Edge)[1],\n",
       "          Edge('cnot'[2] -> 'qb-2'[0] ),\n",
       "          Edge('cnot'[3] -> 'h'[0] )\n",
       "      ]),\n",
       "  'index': (1, 0),\n",
       "  'name': 'cnot',\n",
       "  'split': None,\n",
       "  'mpo': False}]"
      ]
     },
     "execution_count": 25,
     "metadata": {},
     "output_type": "execute_result"
    }
   ],
   "source": [
    "# 打印量子电路中间表示\n",
    "\n",
    "c1.to_qir()"
   ]
  },
  {
   "cell_type": "markdown",
   "id": "6ef7a8bd",
   "metadata": {},
   "source": [
    "有两种方法可以可视化 TensorCircuit 中生成的量子电路。 第一种是使用 ``c.tex()`` 来获取 \\Latex quantikz 命令。"
   ]
  },
  {
   "cell_type": "code",
   "execution_count": 26,
   "id": "9a3394f3",
   "metadata": {},
   "outputs": [
    {
     "data": {
      "text/plain": [
       "'\\\\begin{quantikz}\\n\\\\lstick{$\\\\ket{0}$}&\\\\gate{h} &\\\\targ{} &\\\\qw \\\\\\\\\\n\\\\lstick{$\\\\ket{0}$}&\\\\qw &\\\\ctrl{-1} &\\\\qw \\n\\\\end{quantikz}'"
      ]
     },
     "execution_count": 26,
     "metadata": {},
     "output_type": "execute_result"
    }
   ],
   "source": [
    "c.tex()"
   ]
  },
  {
   "cell_type": "markdown",
   "id": "70dfb85d",
   "metadata": {},
   "source": [
    "第二种方法使用 [qiskit](https://qiskit.org/documentation/stubs/qiskit.circuit.QuantumCircuit.draw.html) 中的绘图功能。"
   ]
  },
  {
   "cell_type": "code",
   "execution_count": 27,
   "id": "f63d7baf",
   "metadata": {},
   "outputs": [
    {
     "data": {
      "image/png": "[encoded data removed]",
      "text/plain": [
       "<Figure size 206.852x144.48 with 1 Axes>"
      ]
     },
     "execution_count": 27,
     "metadata": {},
     "output_type": "execute_result"
    }
   ],
   "source": [
    "c.draw(output=\"mpl\")"
   ]
  }
 ],
 "metadata": {
  "kernelspec": {
   "display_name": "Python 3 (ipykernel)",
   "language": "python",
   "name": "python3"
  },
  "language_info": {
   "codemirror_mode": {
    "name": "ipython",
    "version": 3
   },
   "file_extension": ".py",
   "mimetype": "text/x-python",
   "name": "python",
   "nbconvert_exporter": "python",
   "pygments_lexer": "ipython3",
   "version": "3.8.0"
  }
 },
 "nbformat": 4,
 "nbformat_minor": 5
}